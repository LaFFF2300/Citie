{
  "nbformat": 4,
  "nbformat_minor": 0,
  "metadata": {
    "colab": {
      "name": "Activity One: Python Fundamentals",
      "provenance": [],
      "authorship_tag": "ABX9TyNdf9mt8eUkpcAksbfj1/7U",
      "include_colab_link": true
    },
    "kernelspec": {
      "name": "python3",
      "display_name": "Python 3"
    },
    "language_info": {
      "name": "python"
    }
  },
  "cells": [
    {
      "cell_type": "markdown",
      "metadata": {
        "id": "view-in-github",
        "colab_type": "text"
      },
      "source": [
        "<a href=\"https://colab.research.google.com/github/LaFFF2300/Citie/blob/main/Activity_One_Python_Fundamentals.ipynb\" target=\"_parent\"><img src=\"https://colab.research.google.com/assets/colab-badge.svg\" alt=\"Open In Colab\"/></a>"
      ]
    },
    {
      "cell_type": "markdown",
      "source": [
        "###Variable"
      ],
      "metadata": {
        "id": "v_w18KzWBzy0"
      }
    },
    {
      "cell_type": "code",
      "source": [
        "x= input(\"enter  number: \")\n",
        "x"
      ],
      "metadata": {
        "colab": {
          "base_uri": "https://localhost:8080/",
          "height": 53
        },
        "id": "KbQExhkwDFZZ",
        "outputId": "def937b2-45c7-4a89-df3d-a89dcc688d4f"
      },
      "execution_count": 1,
      "outputs": [
        {
          "name": "stdout",
          "output_type": "stream",
          "text": [
            "enter  number: 2\n"
          ]
        },
        {
          "output_type": "execute_result",
          "data": {
            "application/vnd.google.colaboratory.intrinsic+json": {
              "type": "string"
            },
            "text/plain": [
              "'2'"
            ]
          },
          "metadata": {},
          "execution_count": 1
        }
      ]
    },
    {
      "cell_type": "code",
      "source": [
        "name = input(\"Kimi no nawa: \")\n",
        "pg = input(\"Enter prelims grade: \") \n",
        "mg = input(\"Enter midterms grade: \")\n",
        "fg = input(\"Enter finals grade: \")\n",
        "sem_grade = 98\n",
        "print(\"Hello {}, your semestral grade is: {}\".format(name, sem_grade))"
      ],
      "metadata": {
        "id": "3gw4IZxKDBpI",
        "colab": {
          "base_uri": "https://localhost:8080/",
          "height": 0
        },
        "outputId": "b254cb52-4ff4-410d-a548-6ded66918d16"
      },
      "execution_count": 4,
      "outputs": [
        {
          "output_type": "stream",
          "name": "stdout",
          "text": [
            "Kimi no nawa: Louise Alexis Fajardo\n",
            "Enter prelims grade: 20\n",
            "Enter midterms grade: 20\n",
            "Enter finals grade: 10\n",
            "Hello Louise Alexis Fajardo, your semestral grade is: 98\n"
          ]
        }
      ]
    },
    {
      "cell_type": "markdown",
      "source": [
        "##**Looping** **Statement**"
      ],
      "metadata": {
        "id": "GPs0ydxGFJfE"
      }
    },
    {
      "cell_type": "code",
      "source": [
        "## while loops\n",
        "i, j =0,10\n",
        "while(i<=j):\n",
        "  print(f\"{i}\\t|\\t{j}\")\n",
        "  i+=1"
      ],
      "metadata": {
        "colab": {
          "base_uri": "https://localhost:8080/",
          "height": 0
        },
        "id": "BOdQWgzTFrAv",
        "outputId": "8a037ccd-b60c-44b6-d89b-c0778c7fdd17"
      },
      "execution_count": 5,
      "outputs": [
        {
          "output_type": "stream",
          "name": "stdout",
          "text": [
            "0\t|\t10\n",
            "1\t|\t10\n",
            "2\t|\t10\n",
            "3\t|\t10\n",
            "4\t|\t10\n",
            "5\t|\t10\n",
            "6\t|\t10\n",
            "7\t|\t10\n",
            "8\t|\t10\n",
            "9\t|\t10\n",
            "10\t|\t10\n"
          ]
        }
      ]
    },
    {
      "cell_type": "code",
      "source": [
        "# for(int i=o; i<10; i++){\n",
        "# printf(1)\n",
        "# }\n",
        "\n",
        "i=0\n",
        "for i in range(11):\n",
        "  print(i)"
      ],
      "metadata": {
        "colab": {
          "base_uri": "https://localhost:8080/",
          "height": 0
        },
        "id": "uZ3iSiSxG7ZC",
        "outputId": "f0c84128-b24b-4a30-f2da-9722c94db56c"
      },
      "execution_count": 7,
      "outputs": [
        {
          "output_type": "stream",
          "name": "stdout",
          "text": [
            "0\n",
            "1\n",
            "2\n",
            "3\n",
            "4\n",
            "5\n",
            "6\n",
            "7\n",
            "8\n",
            "9\n",
            "10\n"
          ]
        }
      ]
    },
    {
      "cell_type": "code",
      "source": [
        "playlist = [\"Stargazing\", \"10 minute version\", \"Happier- ed\"]\n",
        "print('Now Playing:\\n')\n",
        "for song in playlist:\n",
        "  print(song)"
      ],
      "metadata": {
        "colab": {
          "base_uri": "https://localhost:8080/",
          "height": 0
        },
        "id": "d56Gm3DuHpDu",
        "outputId": "f94c7d3c-159f-4b95-b21d-0333808b275f"
      },
      "execution_count": 9,
      "outputs": [
        {
          "output_type": "stream",
          "name": "stdout",
          "text": [
            "Now Playing:\n",
            "\n",
            "Stargazing\n",
            "10 minute version\n",
            "Happier- ed\n"
          ]
        }
      ]
    },
    {
      "cell_type": "markdown",
      "source": [
        "##Flow Control"
      ],
      "metadata": {
        "id": "WtLVFb5BIaj8"
      }
    },
    {
      "cell_type": "markdown",
      "source": [
        "###Condition Statement"
      ],
      "metadata": {
        "id": "lwcpyKhoIfHi"
      }
    },
    {
      "cell_type": "code",
      "source": [
        "numeral1, numeral2 = 12, 14\n",
        "if(numeral1 == numeral2):\n",
        "  print(\"NYENYENYE\")\n",
        "elif(numeral1>numeral2):\n",
        "  print(\"Blehhh\")\n",
        "else:\n",
        "  print(\"Ampon\")"
      ],
      "metadata": {
        "colab": {
          "base_uri": "https://localhost:8080/",
          "height": 0
        },
        "id": "Ziw4WjwlIaLd",
        "outputId": "fc88abe5-0275-44d7-844a-11cc19dacb66"
      },
      "execution_count": 10,
      "outputs": [
        {
          "output_type": "stream",
          "name": "stdout",
          "text": [
            "Ampon\n"
          ]
        }
      ]
    },
    {
      "cell_type": "markdown",
      "source": [
        "##Functions"
      ],
      "metadata": {
        "id": "4ciCNjADJ1g1"
      }
    },
    {
      "cell_type": "code",
      "source": [
        "# void DeleteUser(int userid){\n",
        "#    delete(userid);\n",
        "# }\n",
        "\n",
        "def delete_user (userid):\n",
        "  print(\"Successfully Deleted user: {}\".format(userid))\n",
        "\n",
        "def delete_all_user ():\n",
        "  print(\"Successfully deleted all user\")"
      ],
      "metadata": {
        "id": "Cqe-MAbeJ4BN"
      },
      "execution_count": 13,
      "outputs": []
    },
    {
      "cell_type": "code",
      "source": [
        "userid = 202013010\n",
        "delete_user(202013010)\n",
        "delete_all_user()"
      ],
      "metadata": {
        "colab": {
          "base_uri": "https://localhost:8080/",
          "height": 0
        },
        "id": "ZBshirtuLGYn",
        "outputId": "8402de83-f35a-48ab-bc7f-35e6ee68c79f"
      },
      "execution_count": 15,
      "outputs": [
        {
          "output_type": "stream",
          "name": "stdout",
          "text": [
            "Successfully Deleted user: 202013010\n",
            "Successfully deleted all user\n"
          ]
        }
      ]
    },
    {
      "cell_type": "code",
      "source": [
        "def add(addend1, addend2):\n",
        "  print(\"I Am Great at adding Addends mwehehehe botbot\")\n",
        "  return addend1 + addend2\n",
        "  \n",
        "def power_of_base2(exponent):\n",
        "  return 28**exponent\n",
        "\n",
        "addend1 = 5\n",
        "addend2 = 15\n",
        "\n",
        "exponent = 3\n",
        "\n",
        "add(addend1, addend2)\n",
        "power_of_base2(exponent)"
      ],
      "metadata": {
        "colab": {
          "base_uri": "https://localhost:8080/",
          "height": 0
        },
        "id": "kr7u74NZMMBN",
        "outputId": "36d20218-7eb1-4925-f6c5-1960f5011073"
      },
      "execution_count": 24,
      "outputs": [
        {
          "output_type": "stream",
          "name": "stdout",
          "text": [
            "I Am Great at adding Addends mwehehehe botbot\n"
          ]
        },
        {
          "output_type": "execute_result",
          "data": {
            "text/plain": [
              "21952"
            ]
          },
          "metadata": {},
          "execution_count": 24
        }
      ]
    },
    {
      "cell_type": "code",
      "source": [
        "add(addend1, addend2)"
      ],
      "metadata": {
        "colab": {
          "base_uri": "https://localhost:8080/",
          "height": 0
        },
        "id": "eMU0WAnaNpPy",
        "outputId": "ce29660e-2291-467e-ffaf-29bc7e4b1628"
      },
      "execution_count": 25,
      "outputs": [
        {
          "output_type": "stream",
          "name": "stdout",
          "text": [
            "I Am Great at adding Addends mwehehehe botbot\n"
          ]
        },
        {
          "output_type": "execute_result",
          "data": {
            "text/plain": [
              "20"
            ]
          },
          "metadata": {},
          "execution_count": 25
        }
      ]
    },
    {
      "cell_type": "markdown",
      "source": [
        "##Lamba Functions"
      ],
      "metadata": {
        "id": "VLY56v5VM15I"
      }
    },
    {
      "cell_type": "code",
      "source": [
        ""
      ],
      "metadata": {
        "id": "i-KEfbprO6e2"
      },
      "execution_count": null,
      "outputs": []
    }
  ]
}