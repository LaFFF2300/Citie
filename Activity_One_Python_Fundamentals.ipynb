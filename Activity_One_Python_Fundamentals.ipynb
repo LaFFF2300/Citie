{
  "nbformat": 4,
  "nbformat_minor": 0,
  "metadata": {
    "colab": {
      "name": "Activity One: Python Fundamentals",
      "provenance": [],
      "collapsed_sections": [],
      "authorship_tag": "ABX9TyO6D9ceyHpFnHYU3io9jEyj",
      "include_colab_link": true
    },
    "kernelspec": {
      "name": "python3",
      "display_name": "Python 3"
    },
    "language_info": {
      "name": "python"
    }
  },
  "cells": [
    {
      "cell_type": "markdown",
      "metadata": {
        "id": "view-in-github",
        "colab_type": "text"
      },
      "source": [
        "<a href=\"https://colab.research.google.com/github/LaFFF2300/Citie/blob/main/Activity_One_Python_Fundamentals.ipynb\" target=\"_parent\"><img src=\"https://colab.research.google.com/assets/colab-badge.svg\" alt=\"Open In Colab\"/></a>"
      ]
    },
    {
      "cell_type": "markdown",
      "source": [
        "# WELOME TO PYTHON FUNDAMENTALS\n",
        "In this module, we are going to establish or review our skills in Python programming. In this notebook we are going to cover:\n",
        "* Variables and Data Types \n",
        "* Operations\n",
        "* Input and Output Operations\n",
        "* Logic Control\n",
        "* Iterables\n",
        "* Functions"
      ],
      "metadata": {
        "id": "v_w18KzWBzy0"
      }
    },
    {
      "cell_type": "markdown",
      "source": [
        "## Variebles and Data types"
      ],
      "metadata": {
        "id": "Cn6SYt-kvNeE"
      }
    },
    {
      "cell_type": "code",
      "source": [
        "x = 1\n",
        "i,j = 2, 13"
      ],
      "metadata": {
        "id": "rRD-QbjQvQ02"
      },
      "execution_count": null,
      "outputs": []
    },
    {
      "cell_type": "code",
      "source": [
        "type(x)"
      ],
      "metadata": {
        "colab": {
          "base_uri": "https://localhost:8080/"
        },
        "id": "N3lA5uisuxDN",
        "outputId": "8d4176bc-dc47-4e3b-d44b-156f0c189347"
      },
      "execution_count": null,
      "outputs": [
        {
          "output_type": "execute_result",
          "data": {
            "text/plain": [
              "int"
            ]
          },
          "metadata": {},
          "execution_count": 2
        }
      ]
    },
    {
      "cell_type": "code",
      "source": [
        "y = 1.0\n",
        "type(y)"
      ],
      "metadata": {
        "id": "s7yOztSKvppy"
      },
      "execution_count": null,
      "outputs": []
    },
    {
      "cell_type": "code",
      "source": [
        "x = float(x)\n",
        "type(x)"
      ],
      "metadata": {
        "id": "bMV58DwUv3ah"
      },
      "execution_count": null,
      "outputs": []
    },
    {
      "cell_type": "code",
      "source": [
        "s,t,u = \"0\", '1', 'one'\n",
        "type(s)"
      ],
      "metadata": {
        "id": "0cwseQIBv_ls"
      },
      "execution_count": null,
      "outputs": []
    },
    {
      "cell_type": "code",
      "source": [
        "s_int = int(s)\n",
        "s_int"
      ],
      "metadata": {
        "colab": {
          "base_uri": "https://localhost:8080/"
        },
        "id": "GHlvFI_iwPHm",
        "outputId": "37305f7d-3117-43cd-9e29-f1b6c85a4fb4"
      },
      "execution_count": null,
      "outputs": [
        {
          "output_type": "execute_result",
          "data": {
            "text/plain": [
              "0"
            ]
          },
          "metadata": {},
          "execution_count": 6
        }
      ]
    },
    {
      "cell_type": "markdown",
      "source": [
        "OPERATION"
      ],
      "metadata": {
        "id": "xTNzYTIIwTNs"
      }
    },
    {
      "cell_type": "markdown",
      "source": [
        "# Arithmetic"
      ],
      "metadata": {
        "id": "LoYiZRYxwXp6"
      }
    },
    {
      "cell_type": "code",
      "source": [
        "a,b,c,d = 5.0,-3.5, 8, -32"
      ],
      "metadata": {
        "id": "SiwVtbLkwf3t"
      },
      "execution_count": null,
      "outputs": []
    },
    {
      "cell_type": "code",
      "source": [
        "#Addition\n",
        "S = a+b\n",
        "S"
      ],
      "metadata": {
        "colab": {
          "base_uri": "https://localhost:8080/"
        },
        "id": "KLp_Oqb9wjWa",
        "outputId": "0dada59f-a5ed-410e-b8fe-e821a78cbfad"
      },
      "execution_count": null,
      "outputs": [
        {
          "output_type": "execute_result",
          "data": {
            "text/plain": [
              "1.5"
            ]
          },
          "metadata": {},
          "execution_count": 8
        }
      ]
    },
    {
      "cell_type": "code",
      "source": [
        "###Subtraction\n",
        "D = b-d\n",
        "D"
      ],
      "metadata": {
        "colab": {
          "base_uri": "https://localhost:8080/"
        },
        "id": "ORPhuA-DwnRt",
        "outputId": "f3eb63d6-f437-4839-d837-085e95f1e7c6"
      },
      "execution_count": null,
      "outputs": [
        {
          "output_type": "execute_result",
          "data": {
            "text/plain": [
              "28.5"
            ]
          },
          "metadata": {},
          "execution_count": 9
        }
      ]
    },
    {
      "cell_type": "code",
      "source": [
        "###Multiplication\n",
        "P = a*d\n",
        "P"
      ],
      "metadata": {
        "colab": {
          "base_uri": "https://localhost:8080/"
        },
        "id": "CBd3gRDewqhk",
        "outputId": "193b5f35-d964-42c9-9361-1562343ebce4"
      },
      "execution_count": null,
      "outputs": [
        {
          "output_type": "execute_result",
          "data": {
            "text/plain": [
              "-160.0"
            ]
          },
          "metadata": {},
          "execution_count": 10
        }
      ]
    },
    {
      "cell_type": "code",
      "source": [
        "###Division \n",
        "Q = c/a\n",
        "Q"
      ],
      "metadata": {
        "colab": {
          "base_uri": "https://localhost:8080/"
        },
        "id": "OLGL3paawtxx",
        "outputId": "c6ef8d20-b91c-487a-a992-51951690e002"
      },
      "execution_count": null,
      "outputs": [
        {
          "output_type": "execute_result",
          "data": {
            "text/plain": [
              "1.6"
            ]
          },
          "metadata": {},
          "execution_count": 11
        }
      ]
    },
    {
      "cell_type": "code",
      "source": [
        "###Floor Division\n",
        "Fq = a//b\n",
        "Fq"
      ],
      "metadata": {
        "colab": {
          "base_uri": "https://localhost:8080/"
        },
        "id": "DBc0DyI7w7aT",
        "outputId": "ac2b224d-60e3-41f8-feab-a57e40b17649"
      },
      "execution_count": null,
      "outputs": [
        {
          "output_type": "execute_result",
          "data": {
            "text/plain": [
              "-2.0"
            ]
          },
          "metadata": {},
          "execution_count": 12
        }
      ]
    },
    {
      "cell_type": "code",
      "source": [
        "###Exponentiation\n",
        "E = a**b\n",
        "E"
      ],
      "metadata": {
        "colab": {
          "base_uri": "https://localhost:8080/"
        },
        "id": "OeO2lxj6w_x1",
        "outputId": "f0a93a48-1a09-4b21-ce57-645e9c3381b4"
      },
      "execution_count": null,
      "outputs": [
        {
          "output_type": "execute_result",
          "data": {
            "text/plain": [
              "0.0035777087639996636"
            ]
          },
          "metadata": {},
          "execution_count": 13
        }
      ]
    },
    {
      "cell_type": "code",
      "source": [
        "###Modulo\n",
        "mod = d%a\n",
        "mod"
      ],
      "metadata": {
        "colab": {
          "base_uri": "https://localhost:8080/"
        },
        "id": "l_0CSYMcxDEv",
        "outputId": "4bcbfd42-3ca2-467d-c75a-2dbe9d423b02"
      },
      "execution_count": null,
      "outputs": [
        {
          "output_type": "execute_result",
          "data": {
            "text/plain": [
              "3.0"
            ]
          },
          "metadata": {},
          "execution_count": 14
        }
      ]
    },
    {
      "cell_type": "markdown",
      "source": [
        "# Assignment Operation"
      ],
      "metadata": {
        "id": "2UvaMT1VxG6L"
      }
    },
    {
      "cell_type": "code",
      "source": [
        "G,H,J,K = 0, 100, 2, 2"
      ],
      "metadata": {
        "id": "K7xkL6MkxLnx"
      },
      "execution_count": null,
      "outputs": []
    },
    {
      "cell_type": "code",
      "source": [
        "G += a\n",
        "G"
      ],
      "metadata": {
        "colab": {
          "base_uri": "https://localhost:8080/"
        },
        "id": "Fr8x3tPzxRSf",
        "outputId": "79652f82-63a5-4beb-b919-6891c9363e5f"
      },
      "execution_count": null,
      "outputs": [
        {
          "output_type": "execute_result",
          "data": {
            "text/plain": [
              "5.0"
            ]
          },
          "metadata": {},
          "execution_count": 16
        }
      ]
    },
    {
      "cell_type": "code",
      "source": [
        "H -= d \n",
        "H"
      ],
      "metadata": {
        "colab": {
          "base_uri": "https://localhost:8080/"
        },
        "id": "u7rqH3XVxU0L",
        "outputId": "a710ceda-93e6-4b71-ae56-6ff48399edb7"
      },
      "execution_count": null,
      "outputs": [
        {
          "output_type": "execute_result",
          "data": {
            "text/plain": [
              "132"
            ]
          },
          "metadata": {},
          "execution_count": 17
        }
      ]
    },
    {
      "cell_type": "code",
      "source": [
        "J *= 2\n",
        "J "
      ],
      "metadata": {
        "colab": {
          "base_uri": "https://localhost:8080/"
        },
        "id": "R0ntLxWdxYLU",
        "outputId": "51b735e3-6361-4084-d146-24fd306e2400"
      },
      "execution_count": null,
      "outputs": [
        {
          "output_type": "execute_result",
          "data": {
            "text/plain": [
              "4"
            ]
          },
          "metadata": {},
          "execution_count": 18
        }
      ]
    },
    {
      "cell_type": "code",
      "source": [
        "K **= 3 \n",
        "K "
      ],
      "metadata": {
        "colab": {
          "base_uri": "https://localhost:8080/"
        },
        "id": "42IbpJypxZyx",
        "outputId": "1c741021-c246-4d91-d1e9-6580ab2542c0"
      },
      "execution_count": null,
      "outputs": [
        {
          "output_type": "execute_result",
          "data": {
            "text/plain": [
              "8"
            ]
          },
          "metadata": {},
          "execution_count": 19
        }
      ]
    },
    {
      "cell_type": "markdown",
      "source": [
        "## Comparators"
      ],
      "metadata": {
        "id": "TE4OiXqpxdUO"
      }
    },
    {
      "cell_type": "code",
      "source": [
        "res_1, res_2, res_3 = 1, 2.0, \"1\" \n",
        "true_val = 1.0 "
      ],
      "metadata": {
        "id": "s2eYSwrmxicz"
      },
      "execution_count": null,
      "outputs": []
    },
    {
      "cell_type": "code",
      "source": [
        "## Equality\n",
        "res_1 == true_val"
      ],
      "metadata": {
        "colab": {
          "base_uri": "https://localhost:8080/"
        },
        "id": "foDNg7nCxvdq",
        "outputId": "7d1f0fd7-6610-4d7b-ff2c-e401e56646b5"
      },
      "execution_count": null,
      "outputs": [
        {
          "output_type": "execute_result",
          "data": {
            "text/plain": [
              "True"
            ]
          },
          "metadata": {},
          "execution_count": 21
        }
      ]
    },
    {
      "cell_type": "code",
      "source": [
        "## Non-Equality\n",
        "res_2 != true_val "
      ],
      "metadata": {
        "colab": {
          "base_uri": "https://localhost:8080/"
        },
        "id": "TUN7WQ1pxyXX",
        "outputId": "be72e4bd-00da-476b-c107-b2b03a9720be"
      },
      "execution_count": null,
      "outputs": [
        {
          "output_type": "execute_result",
          "data": {
            "text/plain": [
              "True"
            ]
          },
          "metadata": {},
          "execution_count": 22
        }
      ]
    },
    {
      "cell_type": "code",
      "source": [
        "## Inequality\n",
        "t1 = res_1 > res_2 \n",
        "t2 = res_1 < res_2/2 \n",
        "t3 = res_1 >= res_2/2\n",
        "t4 = res_1 <= res_2 "
      ],
      "metadata": {
        "id": "7AkylYqUx239"
      },
      "execution_count": null,
      "outputs": []
    },
    {
      "cell_type": "markdown",
      "source": [
        "## Logical"
      ],
      "metadata": {
        "id": "hPP5Jr0SyFsg"
      }
    },
    {
      "cell_type": "code",
      "source": [
        "res_1 == true_val "
      ],
      "metadata": {
        "colab": {
          "base_uri": "https://localhost:8080/"
        },
        "id": "-IwiYBiLyCST",
        "outputId": "22a796a3-e720-4fd5-d957-e8c5e0bb19d2"
      },
      "execution_count": null,
      "outputs": [
        {
          "output_type": "execute_result",
          "data": {
            "text/plain": [
              "True"
            ]
          },
          "metadata": {},
          "execution_count": 24
        }
      ]
    },
    {
      "cell_type": "code",
      "source": [
        "res_1 is true_val "
      ],
      "metadata": {
        "colab": {
          "base_uri": "https://localhost:8080/"
        },
        "id": "SGAWFL7XyLab",
        "outputId": "706a95c2-3b5c-4f9f-f79d-87031c225293"
      },
      "execution_count": null,
      "outputs": [
        {
          "output_type": "execute_result",
          "data": {
            "text/plain": [
              "False"
            ]
          },
          "metadata": {},
          "execution_count": 25
        }
      ]
    },
    {
      "cell_type": "code",
      "source": [
        "res_1 is not true_val "
      ],
      "metadata": {
        "colab": {
          "base_uri": "https://localhost:8080/"
        },
        "id": "IUBedvMUySnv",
        "outputId": "4ace394e-caee-4fab-ee2f-f42b253afdf0"
      },
      "execution_count": null,
      "outputs": [
        {
          "output_type": "execute_result",
          "data": {
            "text/plain": [
              "True"
            ]
          },
          "metadata": {},
          "execution_count": 26
        }
      ]
    },
    {
      "cell_type": "code",
      "source": [
        "p, q = True, False \n",
        "conj = p and q \n",
        "conj"
      ],
      "metadata": {
        "colab": {
          "base_uri": "https://localhost:8080/"
        },
        "id": "T8NxB4DOyWiT",
        "outputId": "fb113602-61e6-4e5d-f903-a75b9e3af581"
      },
      "execution_count": null,
      "outputs": [
        {
          "output_type": "execute_result",
          "data": {
            "text/plain": [
              "False"
            ]
          },
          "metadata": {},
          "execution_count": 27
        }
      ]
    },
    {
      "cell_type": "code",
      "source": [
        "p, q = True, False\n",
        "disj = p or q \n",
        "disj"
      ],
      "metadata": {
        "colab": {
          "base_uri": "https://localhost:8080/"
        },
        "id": "fTNlQNjYyaRs",
        "outputId": "6089ff78-d9ba-44fc-ea26-a5ee210cfe03"
      },
      "execution_count": null,
      "outputs": [
        {
          "output_type": "execute_result",
          "data": {
            "text/plain": [
              "True"
            ]
          },
          "metadata": {},
          "execution_count": 28
        }
      ]
    },
    {
      "cell_type": "code",
      "source": [
        "p, q = True, False \n",
        "nand = not (p and q) \n",
        "nand"
      ],
      "metadata": {
        "colab": {
          "base_uri": "https://localhost:8080/"
        },
        "id": "nBRV4NY4ycbE",
        "outputId": "70364fa6-a013-445f-db7b-52c1818148cc"
      },
      "execution_count": null,
      "outputs": [
        {
          "output_type": "execute_result",
          "data": {
            "text/plain": [
              "True"
            ]
          },
          "metadata": {},
          "execution_count": 29
        }
      ]
    },
    {
      "cell_type": "code",
      "source": [
        "p, q = True, False \n",
        "xor = (not p and q) or (p and not q) \n",
        "xor "
      ],
      "metadata": {
        "colab": {
          "base_uri": "https://localhost:8080/"
        },
        "id": "DYhmBA_Syhhk",
        "outputId": "4fb656a1-e7b6-469c-e6e5-3cfff1b15b97"
      },
      "execution_count": null,
      "outputs": [
        {
          "output_type": "execute_result",
          "data": {
            "text/plain": [
              "True"
            ]
          },
          "metadata": {},
          "execution_count": 30
        }
      ]
    },
    {
      "cell_type": "markdown",
      "source": [
        "## ----"
      ],
      "metadata": {
        "id": "jHw1eadsySLo"
      }
    },
    {
      "cell_type": "code",
      "source": [
        "print(\"Hello Universe\") "
      ],
      "metadata": {
        "colab": {
          "base_uri": "https://localhost:8080/"
        },
        "id": "JM5yB3-Bynez",
        "outputId": "6df65f02-cce7-4d59-b722-a169edb456f1"
      },
      "execution_count": null,
      "outputs": [
        {
          "output_type": "stream",
          "name": "stdout",
          "text": [
            "Hello Universe\n"
          ]
        }
      ]
    },
    {
      "cell_type": "code",
      "source": [
        "cnt = 1 "
      ],
      "metadata": {
        "id": "UIpCr_B7ytmM"
      },
      "execution_count": null,
      "outputs": []
    },
    {
      "cell_type": "code",
      "source": [
        "string = \"Hello Universe\" \n",
        "print(string, \", Current run count is:\", cnt) \n",
        "cnt+= 1"
      ],
      "metadata": {
        "colab": {
          "base_uri": "https://localhost:8080/"
        },
        "id": "_8chO8DUywq0",
        "outputId": "6dba58d2-f5e7-4e90-a7b1-f88bbfcc230b"
      },
      "execution_count": null,
      "outputs": [
        {
          "output_type": "stream",
          "name": "stdout",
          "text": [
            "Hello Universe , Current run count is: 1\n"
          ]
        }
      ]
    },
    {
      "cell_type": "code",
      "source": [
        "print(f\"{string}, Current count is: {cnt}\")"
      ],
      "metadata": {
        "colab": {
          "base_uri": "https://localhost:8080/"
        },
        "id": "TySUNrScy5A0",
        "outputId": "827c55ef-02d2-464c-affc-6f4b8fbd6985"
      },
      "execution_count": null,
      "outputs": [
        {
          "output_type": "stream",
          "name": "stdout",
          "text": [
            "Hello Universe, Current count is: 2\n"
          ]
        }
      ]
    },
    {
      "cell_type": "code",
      "source": [
        "sem_grade = 98\n",
        "name = \"Alex cutie\" \n",
        "print(\"Hello {}, your semestral grade is: {}\". format (name, sem_grade))"
      ],
      "metadata": {
        "colab": {
          "base_uri": "https://localhost:8080/"
        },
        "id": "t6nE-Vw9y6yx",
        "outputId": "4bd89be9-4ed7-4d7a-bceb-e00bd9573842"
      },
      "execution_count": null,
      "outputs": [
        {
          "output_type": "stream",
          "name": "stdout",
          "text": [
            "Hello Alex cutie, your semestral grade is: 98\n"
          ]
        }
      ]
    },
    {
      "cell_type": "code",
      "source": [
        "w_pg, w_mg, w_fg = 0.3, 0.3, 0.4 \n",
        "print(\"The weights of your semestral grades are:\\\n",
        "\\n\\t{:.2%} for Prelims\\\n",
        "\\n\\t{:.2%} for Midterms, and\\\n",
        "\\n\\t{:.2%} for Finals.\". format(w_pg, w_mg, w_fg))"
      ],
      "metadata": {
        "colab": {
          "base_uri": "https://localhost:8080/"
        },
        "id": "Ug-nKLWtzHVM",
        "outputId": "998633d9-dec4-47bd-816a-be25994cabee"
      },
      "execution_count": null,
      "outputs": [
        {
          "output_type": "stream",
          "name": "stdout",
          "text": [
            "The weights of your semestral grades are:\n",
            "\t30.00% for Prelims\n",
            "\t30.00% for Midterms, and\n",
            "\t40.00% for Finals.\n"
          ]
        }
      ]
    },
    {
      "cell_type": "code",
      "source": [
        "x = input (\"enter a number: \")\n",
        "x"
      ],
      "metadata": {
        "colab": {
          "base_uri": "https://localhost:8080/",
          "height": 53
        },
        "id": "yDureoYrz5c5",
        "outputId": "b99e37db-3b0a-4141-91db-7c97c3ad5615"
      },
      "execution_count": null,
      "outputs": [
        {
          "name": "stdout",
          "output_type": "stream",
          "text": [
            "enter a number: 98\n"
          ]
        },
        {
          "output_type": "execute_result",
          "data": {
            "application/vnd.google.colaboratory.intrinsic+json": {
              "type": "string"
            },
            "text/plain": [
              "'98'"
            ]
          },
          "metadata": {},
          "execution_count": 41
        }
      ]
    },
    {
      "cell_type": "code",
      "source": [
        "name = input(\"Kimi no nawa: \")\n",
        "pg = input(\"Enter prelims grade: \") \n",
        "mg = input(\"Enter midterms grade: \")\n",
        "fg = input(\"Enter finals grade: \")\n",
        "sem_grade = 98\n",
        "print(\"Hello {}, your semestral grade is: {}\".format(name, sem_grade))"
      ],
      "metadata": {
        "id": "3gw4IZxKDBpI",
        "colab": {
          "base_uri": "https://localhost:8080/"
        },
        "outputId": "377f6cc5-f8a4-4a48-e8b2-8514f88bd1dc"
      },
      "execution_count": null,
      "outputs": [
        {
          "output_type": "stream",
          "name": "stdout",
          "text": [
            "Kimi no nawa: 98\n",
            "Enter prelims grade: 97\n",
            "Enter midterms grade: 98\n",
            "Enter finals grade: 99\n",
            "Hello 98, your semestral grade is: 98\n"
          ]
        }
      ]
    },
    {
      "cell_type": "markdown",
      "source": [
        "##**Looping** **Statement**"
      ],
      "metadata": {
        "id": "GPs0ydxGFJfE"
      }
    },
    {
      "cell_type": "code",
      "source": [
        "## while loops\n",
        "i, j =0,10\n",
        "while(i<=j):\n",
        "  print(f\"{i}\\t|\\t{j}\")\n",
        "  i+=1"
      ],
      "metadata": {
        "colab": {
          "base_uri": "https://localhost:8080/"
        },
        "id": "BOdQWgzTFrAv",
        "outputId": "8a037ccd-b60c-44b6-d89b-c0778c7fdd17"
      },
      "execution_count": null,
      "outputs": [
        {
          "output_type": "stream",
          "name": "stdout",
          "text": [
            "0\t|\t10\n",
            "1\t|\t10\n",
            "2\t|\t10\n",
            "3\t|\t10\n",
            "4\t|\t10\n",
            "5\t|\t10\n",
            "6\t|\t10\n",
            "7\t|\t10\n",
            "8\t|\t10\n",
            "9\t|\t10\n",
            "10\t|\t10\n"
          ]
        }
      ]
    },
    {
      "cell_type": "code",
      "source": [
        "# for(int i=o; i<10; i++){\n",
        "# printf(1)\n",
        "# }\n",
        "\n",
        "i=0\n",
        "for i in range(11):\n",
        "  print(i)"
      ],
      "metadata": {
        "colab": {
          "base_uri": "https://localhost:8080/"
        },
        "id": "uZ3iSiSxG7ZC",
        "outputId": "f0c84128-b24b-4a30-f2da-9722c94db56c"
      },
      "execution_count": null,
      "outputs": [
        {
          "output_type": "stream",
          "name": "stdout",
          "text": [
            "0\n",
            "1\n",
            "2\n",
            "3\n",
            "4\n",
            "5\n",
            "6\n",
            "7\n",
            "8\n",
            "9\n",
            "10\n"
          ]
        }
      ]
    },
    {
      "cell_type": "code",
      "source": [
        "playlist = [\"Stargazing\", \"10 minute version\", \"Happier- ed\"]\n",
        "print('Now Playing:\\n')\n",
        "for song in playlist:\n",
        "  print(song)"
      ],
      "metadata": {
        "colab": {
          "base_uri": "https://localhost:8080/"
        },
        "id": "d56Gm3DuHpDu",
        "outputId": "f94c7d3c-159f-4b95-b21d-0333808b275f"
      },
      "execution_count": null,
      "outputs": [
        {
          "output_type": "stream",
          "name": "stdout",
          "text": [
            "Now Playing:\n",
            "\n",
            "Stargazing\n",
            "10 minute version\n",
            "Happier- ed\n"
          ]
        }
      ]
    },
    {
      "cell_type": "markdown",
      "source": [
        "##Flow Control"
      ],
      "metadata": {
        "id": "WtLVFb5BIaj8"
      }
    },
    {
      "cell_type": "markdown",
      "source": [
        "###Condition Statement"
      ],
      "metadata": {
        "id": "lwcpyKhoIfHi"
      }
    },
    {
      "cell_type": "code",
      "source": [
        "numeral1, numeral2 = 12, 14\n",
        "if(numeral1 == numeral2):\n",
        "  print(\"NYENYENYE\")\n",
        "elif(numeral1>numeral2):\n",
        "  print(\"Blehhh\")\n",
        "else:\n",
        "  print(\"Ampon\")"
      ],
      "metadata": {
        "colab": {
          "base_uri": "https://localhost:8080/"
        },
        "id": "Ziw4WjwlIaLd",
        "outputId": "fc88abe5-0275-44d7-844a-11cc19dacb66"
      },
      "execution_count": null,
      "outputs": [
        {
          "output_type": "stream",
          "name": "stdout",
          "text": [
            "Ampon\n"
          ]
        }
      ]
    },
    {
      "cell_type": "markdown",
      "source": [
        "##Functions"
      ],
      "metadata": {
        "id": "4ciCNjADJ1g1"
      }
    },
    {
      "cell_type": "code",
      "source": [
        "# void DeleteUser(int userid){\n",
        "#    delete(userid);\n",
        "# }\n",
        "\n",
        "def delete_user (userid):\n",
        "  print(\"Successfully Deleted user: {}\".format(userid))\n",
        "\n",
        "def delete_all_user ():\n",
        "  print(\"Successfully deleted all user\")"
      ],
      "metadata": {
        "id": "Cqe-MAbeJ4BN"
      },
      "execution_count": null,
      "outputs": []
    },
    {
      "cell_type": "code",
      "source": [
        "userid = 202013010\n",
        "delete_user(202013010)\n",
        "delete_all_user()"
      ],
      "metadata": {
        "colab": {
          "base_uri": "https://localhost:8080/"
        },
        "id": "ZBshirtuLGYn",
        "outputId": "8402de83-f35a-48ab-bc7f-35e6ee68c79f"
      },
      "execution_count": null,
      "outputs": [
        {
          "output_type": "stream",
          "name": "stdout",
          "text": [
            "Successfully Deleted user: 202013010\n",
            "Successfully deleted all user\n"
          ]
        }
      ]
    },
    {
      "cell_type": "code",
      "source": [
        "def add(addend1, addend2):\n",
        "  print(\"I Am Great at adding Addends mwehehehe botbot\")\n",
        "  return addend1 + addend2\n",
        "  \n",
        "def power_of_base2(exponent):\n",
        "  return 28**exponent\n",
        "\n",
        "addend1 = 5\n",
        "addend2 = 15\n",
        "\n",
        "exponent = 3\n",
        "\n",
        "add(addend1, addend2)\n",
        "power_of_base2(exponent)"
      ],
      "metadata": {
        "colab": {
          "base_uri": "https://localhost:8080/"
        },
        "id": "kr7u74NZMMBN",
        "outputId": "36d20218-7eb1-4925-f6c5-1960f5011073"
      },
      "execution_count": null,
      "outputs": [
        {
          "output_type": "stream",
          "name": "stdout",
          "text": [
            "I Am Great at adding Addends mwehehehe botbot\n"
          ]
        },
        {
          "output_type": "execute_result",
          "data": {
            "text/plain": [
              "21952"
            ]
          },
          "metadata": {},
          "execution_count": 24
        }
      ]
    },
    {
      "cell_type": "code",
      "source": [
        "add(addend1, addend2)"
      ],
      "metadata": {
        "colab": {
          "base_uri": "https://localhost:8080/"
        },
        "id": "eMU0WAnaNpPy",
        "outputId": "ce29660e-2291-467e-ffaf-29bc7e4b1628"
      },
      "execution_count": null,
      "outputs": [
        {
          "output_type": "stream",
          "name": "stdout",
          "text": [
            "I Am Great at adding Addends mwehehehe botbot\n"
          ]
        },
        {
          "output_type": "execute_result",
          "data": {
            "text/plain": [
              "20"
            ]
          },
          "metadata": {},
          "execution_count": 25
        }
      ]
    },
    {
      "cell_type": "markdown",
      "source": [
        "##Lamba Functions"
      ],
      "metadata": {
        "id": "VLY56v5VM15I"
      }
    },
    {
      "cell_type": "markdown",
      "source": [
        "##Discussion"
      ],
      "metadata": {
        "id": "RwOWv8tlR5M1"
      }
    },
    {
      "cell_type": "code",
      "source": [
        "import numpy as np\n",
        "import matplotlib.pyplot as plt\n",
        "import scipy.linalg as plt\n",
        "%matplotlib inline"
      ],
      "metadata": {
        "id": "bMwDsm8fSDvr"
      },
      "execution_count": 3,
      "outputs": []
    },
    {
      "cell_type": "markdown",
      "source": [
        "$$\n",
        "A = \\left\\{\n",
        "    \\begin{array}\\\n",
        "        x + y\\\\\n",
        "        4x - 10y\n",
        "    \\end{array}\n",
        "\\right.\\\\\n",
        "B = \\left\\{\n",
        "    \\begin{array}\\\n",
        "      x+y+z \\\\\n",
        "      3x -2y -z \\\\\n",
        "      -x + 4y +2z\n",
        "    \\end{array}\n",
        "\\right. \\\\\n",
        "C = \\left\\{\n",
        "    \\begin{array}\\\n",
        "      w-2x+3y-4z \\\\\n",
        "      3w- x -2y +z \\\\\n",
        "      2w -x + 3y - 2z\n",
        "    \\end{array}\n",
        "\\right. \n",
        "$$"
      ],
      "metadata": {
        "id": "MWUvBuzSSenD"
      }
    },
    {
      "cell_type": "markdown",
      "source": [
        "$$\n",
        "A=\\begin{bmatrix} 1 & 1 \\\\ 4 & {-10}\\end{bmatrix} \\\\\n",
        "B=\\begin{bmatrix} 1 & 1 & 1 \\\\ 3 & -2 & -1 \\\\ -1 & 4 & 2\\end{bmatrix}\\\\\n",
        "C=\\begin{bmatrix} 1 & -2 & 3 & -4 \\\\ 3 & -1 & -2 & 1 \\\\ 2 & -1 & 3 & -2\\end{bmatrix}\n",
        "$$"
      ],
      "metadata": {
        "id": "qojJZNriQfv3"
      }
    },
    {
      "cell_type": "code",
      "source": [
        "$$A=\\begin{bmatrix}\n",
        "a_{(0,0)}&a_{(0,1)}&\\dots&a_{(0,j-1)}\\\\\n",
        "a_{(1,0)}&a_{(1,1)}&\\dots&a_{(1,j-1)}\\\\\n",
        "\\vdots&\\vdots&\\ddots&\\vdots&\\\\\n",
        "a_{(i-1,0)}&a_{(i-1,1)}&\\dots&a_{(i-1,j-1)}\n",
        "\\end{bmatrix}\n",
        "$$"
      ],
      "metadata": {
        "colab": {
          "base_uri": "https://localhost:8080/",
          "height": 131
        },
        "id": "TAyr-HDxX8gL",
        "outputId": "d7d99845-aff9-404c-8598-a4aa1a68c913"
      },
      "execution_count": 6,
      "outputs": [
        {
          "output_type": "error",
          "ename": "SyntaxError",
          "evalue": "ignored",
          "traceback": [
            "\u001b[0;36m  File \u001b[0;32m\"<ipython-input-6-218007381503>\"\u001b[0;36m, line \u001b[0;32m1\u001b[0m\n\u001b[0;31m    $$A=\\begin{bmatrix}\u001b[0m\n\u001b[0m    ^\u001b[0m\n\u001b[0;31mSyntaxError\u001b[0m\u001b[0;31m:\u001b[0m invalid syntax\n"
          ]
        }
      ]
    },
    {
      "cell_type": "code",
      "source": [
        "def describe_mat(matrix):\n",
        "    print(f'Matrix:\\n{matrix}\\n\\nShape:\\t{matrix.shape}\\nRank:\\t{matrix.ndim}\\n')"
      ],
      "metadata": {
        "id": "D3YC-astZTe3"
      },
      "execution_count": 7,
      "outputs": []
    },
    {
      "cell_type": "code",
      "source": [
        "A = np.array([\n",
        "    [1, 2],\n",
        "    [3, 1]\n",
        "])"
      ],
      "metadata": {
        "id": "P7aDu_JRZarb"
      },
      "execution_count": 8,
      "outputs": []
    },
    {
      "cell_type": "code",
      "source": [
        "describe_mat(A)"
      ],
      "metadata": {
        "colab": {
          "base_uri": "https://localhost:8080/"
        },
        "id": "JfjoG-7cZfSL",
        "outputId": "6d9d4e2d-64f2-4695-ee07-410f18080e46"
      },
      "execution_count": 9,
      "outputs": [
        {
          "output_type": "stream",
          "name": "stdout",
          "text": [
            "Matrix:\n",
            "[[1 2]\n",
            " [3 1]]\n",
            "\n",
            "Shape:\t(2, 2)\n",
            "Rank:\t2\n",
            "\n"
          ]
        }
      ]
    },
    {
      "cell_type": "code",
      "source": [
        "G = np.array([\n",
        "    [1,1,3],\n",
        "    [2,2,4]\n",
        "])\n",
        "describe_mat(G)"
      ],
      "metadata": {
        "colab": {
          "base_uri": "https://localhost:8080/"
        },
        "id": "-0aRv3eJZobR",
        "outputId": "0b08a4a1-38ae-4d1e-b81d-16f8587809e4"
      },
      "execution_count": 11,
      "outputs": [
        {
          "output_type": "stream",
          "name": "stdout",
          "text": [
            "Matrix:\n",
            "[[1 1 3]\n",
            " [2 2 4]]\n",
            "\n",
            "Shape:\t(2, 3)\n",
            "Rank:\t2\n",
            "\n"
          ]
        }
      ]
    },
    {
      "cell_type": "code",
      "source": [
        "B = np.array([\n",
        "    [8, 2],\n",
        "    [5, 4],\n",
        "    [1, 1]\n",
        "])\n",
        "describe_mat(B)"
      ],
      "metadata": {
        "colab": {
          "base_uri": "https://localhost:8080/"
        },
        "id": "sundEgduZtKt",
        "outputId": "1722c8f6-2df6-482a-bc30-a6a52aa82c34"
      },
      "execution_count": 13,
      "outputs": [
        {
          "output_type": "stream",
          "name": "stdout",
          "text": [
            "Matrix:\n",
            "[[8 2]\n",
            " [5 4]\n",
            " [1 1]]\n",
            "\n",
            "Shape:\t(3, 2)\n",
            "Rank:\t2\n",
            "\n"
          ]
        }
      ]
    },
    {
      "cell_type": "code",
      "source": [
        "H = np.array([1,2,3,4])\n",
        "describe_mat(H)"
      ],
      "metadata": {
        "colab": {
          "base_uri": "https://localhost:8080/"
        },
        "id": "c28UjW0_Zy3_",
        "outputId": "f39fba87-dc95-4b99-af79-087d827f5261"
      },
      "execution_count": 14,
      "outputs": [
        {
          "output_type": "stream",
          "name": "stdout",
          "text": [
            "Matrix:\n",
            "[1 2 3 4]\n",
            "\n",
            "Shape:\t(4,)\n",
            "Rank:\t1\n",
            "\n"
          ]
        }
      ]
    },
    {
      "cell_type": "markdown",
      "source": [
        "## Declaring a Row Matrix"
      ],
      "metadata": {
        "id": "GPXE2i56Z7da"
      }
    },
    {
      "cell_type": "code",
      "source": [
        "rowmatrix1D = np.array([\n",
        "    1, 3, 2, -4\n",
        "]) ## this is a 1-D Matrix with a shape of (3,), it's not really considered as a row matrix.\n",
        "row_mat_2D = np.array([\n",
        "    [1,2,3, -4]\n",
        "]) ## this is a 2-D Matrix with a shape of (1,3)\n",
        "describe_mat(rowmatrix1D)\n",
        "describe_mat(row_mat_2D)"
      ],
      "metadata": {
        "colab": {
          "base_uri": "https://localhost:8080/"
        },
        "id": "FzwsPFjAZ4em",
        "outputId": "c504edae-aaaf-4b55-eed0-f140a588672d"
      },
      "execution_count": 15,
      "outputs": [
        {
          "output_type": "stream",
          "name": "stdout",
          "text": [
            "Matrix:\n",
            "[ 1  3  2 -4]\n",
            "\n",
            "Shape:\t(4,)\n",
            "Rank:\t1\n",
            "\n",
            "Matrix:\n",
            "[[ 1  2  3 -4]]\n",
            "\n",
            "Shape:\t(1, 4)\n",
            "Rank:\t2\n",
            "\n"
          ]
        }
      ]
    },
    {
      "cell_type": "code",
      "source": [
        "col_mat = np.array([\n",
        "    [1],\n",
        "    [2],\n",
        "    [5]\n",
        "]) ## this is a 2-D Matrix with a shape of (3,1)\n",
        "describe_mat(col_mat)"
      ],
      "metadata": {
        "colab": {
          "base_uri": "https://localhost:8080/"
        },
        "id": "aaW30RLLaKhY",
        "outputId": "624fa874-31a0-4458-cffc-33892f7fb87d"
      },
      "execution_count": 16,
      "outputs": [
        {
          "output_type": "stream",
          "name": "stdout",
          "text": [
            "Matrix:\n",
            "[[1]\n",
            " [2]\n",
            " [5]]\n",
            "\n",
            "Shape:\t(3, 1)\n",
            "Rank:\t2\n",
            "\n"
          ]
        }
      ]
    },
    {
      "cell_type": "code",
      "source": [
        "def describe_mat(matrix):\n",
        "    is_square = True if matrix.shape[0] == matrix.shape[1] else False \n",
        "    print(f'Matrix:\\n{matrix}\\n\\nShape:\\t{matrix.shape}\\nRank:\\t{matrix.ndim}\\nIs Square: {is_square}\\n')"
      ],
      "metadata": {
        "id": "U9SgS5QnaPbX"
      },
      "execution_count": 18,
      "outputs": []
    },
    {
      "cell_type": "code",
      "source": [
        "square_mat = np.array([\n",
        "    [1,2,5],\n",
        "    [3,3,8],\n",
        "    [6,1,2]\n",
        "])\n",
        "\n",
        "non_square_mat = np.array([\n",
        "    [1,2,5],\n",
        "    [3,3,8]\n",
        "])\n",
        "describe_mat(square_mat)\n",
        "describe_mat(non_square_mat)"
      ],
      "metadata": {
        "colab": {
          "base_uri": "https://localhost:8080/"
        },
        "id": "hDNCbV-9aVwC",
        "outputId": "bab08414-1e3a-42a1-92d9-c97b20d4cb72"
      },
      "execution_count": 19,
      "outputs": [
        {
          "output_type": "stream",
          "name": "stdout",
          "text": [
            "Matrix:\n",
            "[[1 2 5]\n",
            " [3 3 8]\n",
            " [6 1 2]]\n",
            "\n",
            "Shape:\t(3, 3)\n",
            "Rank:\t2\n",
            "Is Square: True\n",
            "\n",
            "Matrix:\n",
            "[[1 2 5]\n",
            " [3 3 8]]\n",
            "\n",
            "Shape:\t(2, 3)\n",
            "Rank:\t2\n",
            "Is Square: False\n",
            "\n"
          ]
        }
      ]
    },
    {
      "cell_type": "code",
      "source": [
        "def describe_mat(matrix):\n",
        "    if matrix.size > 0:\n",
        "        is_square = True if matrix.shape[0] == matrix.shape[1] else False \n",
        "        print(f'Matrix:\\n{matrix}\\n\\nShape:\\t{matrix.shape}\\nRank:\\t{matrix.ndim}\\nIs Square: {is_square}\\n')\n",
        "    else:\n",
        "        print('Matrix is Null')"
      ],
      "metadata": {
        "id": "wDL8Eyxpaa9C"
      },
      "execution_count": 20,
      "outputs": []
    },
    {
      "cell_type": "code",
      "source": [
        "null_mat = np.array([])\n",
        "describe_mat(null_mat)"
      ],
      "metadata": {
        "id": "6F04Tpd7aei8"
      },
      "execution_count": null,
      "outputs": []
    },
    {
      "cell_type": "code",
      "source": [
        "zero_mat_row = np.zeros((1,2))\n",
        "zero_mat_sqr = np.zeros((2,2))\n",
        "zero_mat_rct = np.zeros((3,2))\n",
        "\n",
        "print(f'Zero Row Matrix: \\n{zero_mat_row}')\n",
        "print(f'Zero Square Matrix: \\n{zero_mat_sqr}')\n",
        "print(f'Zero Rectangular Matrix: \\n{zero_mat_rct}')"
      ],
      "metadata": {
        "colab": {
          "base_uri": "https://localhost:8080/"
        },
        "id": "V9xSPtteaidD",
        "outputId": "408dde3f-358a-4d07-da1d-d25f942beccc"
      },
      "execution_count": 21,
      "outputs": [
        {
          "output_type": "stream",
          "name": "stdout",
          "text": [
            "Zero Row Matrix: \n",
            "[[0. 0.]]\n",
            "Zero Square Matrix: \n",
            "[[0. 0.]\n",
            " [0. 0.]]\n",
            "Zero Rectangular Matrix: \n",
            "[[0. 0.]\n",
            " [0. 0.]\n",
            " [0. 0.]]\n"
          ]
        }
      ]
    },
    {
      "cell_type": "code",
      "source": [
        "ones_mat_row = np.ones((1,2))\n",
        "ones_mat_sqr = np.ones((2,2))\n",
        "ones_mat_rct = np.ones((3,2))\n",
        "\n",
        "print(f'Ones Row Matrix: \\n{ones_mat_row}')\n",
        "print(f'Ones Square Matrix: \\n{ones_mat_sqr}')\n",
        "print(f'Ones Rectangular Matrix: \\n{ones_mat_rct}')"
      ],
      "metadata": {
        "colab": {
          "base_uri": "https://localhost:8080/"
        },
        "id": "OS505VqIaoty",
        "outputId": "0beb3b99-b333-4b12-9ded-3c889d41bc4d"
      },
      "execution_count": 22,
      "outputs": [
        {
          "output_type": "stream",
          "name": "stdout",
          "text": [
            "Ones Row Matrix: \n",
            "[[1. 1.]]\n",
            "Ones Square Matrix: \n",
            "[[1. 1.]\n",
            " [1. 1.]]\n",
            "Ones Rectangular Matrix: \n",
            "[[1. 1.]\n",
            " [1. 1.]\n",
            " [1. 1.]]\n"
          ]
        }
      ]
    },
    {
      "cell_type": "code",
      "source": [
        "np.array([\n",
        "    [2,0,0],\n",
        "    [0,3,0],\n",
        "    [0,0,5]\n",
        "])"
      ],
      "metadata": {
        "colab": {
          "base_uri": "https://localhost:8080/"
        },
        "id": "4_VHHmfKat8W",
        "outputId": "cc8ffa65-cc31-4e69-9db7-f0e9c6838657"
      },
      "execution_count": 23,
      "outputs": [
        {
          "output_type": "execute_result",
          "data": {
            "text/plain": [
              "array([[2, 0, 0],\n",
              "       [0, 3, 0],\n",
              "       [0, 0, 5]])"
            ]
          },
          "metadata": {},
          "execution_count": 23
        }
      ]
    },
    {
      "cell_type": "code",
      "source": [
        "d = np.diag([2,3,5,7])"
      ],
      "metadata": {
        "id": "La6p5P97a31M"
      },
      "execution_count": 24,
      "outputs": []
    },
    {
      "cell_type": "code",
      "source": [
        "np.identity(10)"
      ],
      "metadata": {
        "colab": {
          "base_uri": "https://localhost:8080/"
        },
        "id": "NXZblY3Ea5u3",
        "outputId": "b81ec20f-905f-484c-c5a0-e562c534d47c"
      },
      "execution_count": 25,
      "outputs": [
        {
          "output_type": "execute_result",
          "data": {
            "text/plain": [
              "array([[1., 0., 0., 0., 0., 0., 0., 0., 0., 0.],\n",
              "       [0., 1., 0., 0., 0., 0., 0., 0., 0., 0.],\n",
              "       [0., 0., 1., 0., 0., 0., 0., 0., 0., 0.],\n",
              "       [0., 0., 0., 1., 0., 0., 0., 0., 0., 0.],\n",
              "       [0., 0., 0., 0., 1., 0., 0., 0., 0., 0.],\n",
              "       [0., 0., 0., 0., 0., 1., 0., 0., 0., 0.],\n",
              "       [0., 0., 0., 0., 0., 0., 1., 0., 0., 0.],\n",
              "       [0., 0., 0., 0., 0., 0., 0., 1., 0., 0.],\n",
              "       [0., 0., 0., 0., 0., 0., 0., 0., 1., 0.],\n",
              "       [0., 0., 0., 0., 0., 0., 0., 0., 0., 1.]])"
            ]
          },
          "metadata": {},
          "execution_count": 25
        }
      ]
    },
    {
      "cell_type": "code",
      "source": [
        "np.eye(3)"
      ],
      "metadata": {
        "colab": {
          "base_uri": "https://localhost:8080/"
        },
        "id": "SDgQrs-ca7EG",
        "outputId": "8b788193-93b5-4bc1-c03c-8dd4bba0174b"
      },
      "execution_count": 26,
      "outputs": [
        {
          "output_type": "execute_result",
          "data": {
            "text/plain": [
              "array([[1., 0., 0.],\n",
              "       [0., 1., 0.],\n",
              "       [0., 0., 1.]])"
            ]
          },
          "metadata": {},
          "execution_count": 26
        }
      ]
    },
    {
      "cell_type": "code",
      "source": [
        "np.array([\n",
        "    [1,2,3,4],\n",
        "    [0,3,1,-1],\n",
        "    [0,0,5,2],\n",
        "    [0,0,0,2]\n",
        "])"
      ],
      "metadata": {
        "colab": {
          "base_uri": "https://localhost:8080/"
        },
        "id": "KDvFsl0tbA5k",
        "outputId": "726bbece-0e95-4d78-bd42-dc4f587a913f"
      },
      "execution_count": 27,
      "outputs": [
        {
          "output_type": "execute_result",
          "data": {
            "text/plain": [
              "array([[ 1,  2,  3,  4],\n",
              "       [ 0,  3,  1, -1],\n",
              "       [ 0,  0,  5,  2],\n",
              "       [ 0,  0,  0,  2]])"
            ]
          },
          "metadata": {},
          "execution_count": 27
        }
      ]
    },
    {
      "cell_type": "code",
      "source": [
        "F = np.array([\n",
        "              [2, -3, 4, -5, 6],\n",
        "              [2, -3, 4, -5, 6],\n",
        "              [2, -3, 4, -5, 6],\n",
        "              [2, -3, 4, -5, 6],\n",
        "              [2, -3, 4, -5, 6],\n",
        "])\n",
        "np.triu(F)"
      ],
      "metadata": {
        "colab": {
          "base_uri": "https://localhost:8080/"
        },
        "id": "emqswYylbM9x",
        "outputId": "64ce20e2-421d-4c5b-dad1-4776379a7d01"
      },
      "execution_count": 28,
      "outputs": [
        {
          "output_type": "execute_result",
          "data": {
            "text/plain": [
              "array([[ 2, -3,  4, -5,  6],\n",
              "       [ 0, -3,  4, -5,  6],\n",
              "       [ 0,  0,  4, -5,  6],\n",
              "       [ 0,  0,  0, -5,  6],\n",
              "       [ 0,  0,  0,  0,  6]])"
            ]
          },
          "metadata": {},
          "execution_count": 28
        }
      ]
    },
    {
      "cell_type": "code",
      "source": [
        "np.tril(F)"
      ],
      "metadata": {
        "id": "SQse1A8ebUW8"
      },
      "execution_count": null,
      "outputs": []
    },
    {
      "cell_type": "code",
      "source": [
        "np.array([\n",
        "          [2,0,0]\n",
        "          []\n",
        "])"
      ],
      "metadata": {
        "id": "o0HxZrf3YZ5d"
      },
      "execution_count": null,
      "outputs": []
    },
    {
      "cell_type": "markdown",
      "source": [
        "##Identity Matrix"
      ],
      "metadata": {
        "id": "33awUruIY1jz"
      }
    }
  ]
}