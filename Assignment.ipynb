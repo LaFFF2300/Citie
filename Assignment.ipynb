{
  "nbformat": 4,
  "nbformat_minor": 0,
  "metadata": {
    "colab": {
      "name": "Assignment",
      "provenance": [],
      "collapsed_sections": [],
      "authorship_tag": "ABX9TyPPyh+5Y3mO41WgfE8EzF+q",
      "include_colab_link": true
    },
    "kernelspec": {
      "name": "python3",
      "display_name": "Python 3"
    },
    "language_info": {
      "name": "python"
    }
  },
  "cells": [
    {
      "cell_type": "markdown",
      "metadata": {
        "id": "view-in-github",
        "colab_type": "text"
      },
      "source": [
        "<a href=\"https://colab.research.google.com/github/LaFFF2300/Citie/blob/main/Assignment.ipynb\" target=\"_parent\"><img src=\"https://colab.research.google.com/assets/colab-badge.svg\" alt=\"Open In Colab\"/></a>"
      ]
    },
    {
      "cell_type": "markdown",
      "source": [
        "#Linear Algebra for ChE\n",
        "##Assignment 3 : Matrices"
      ],
      "metadata": {
        "id": "XyKdCkbs_nqr"
      }
    },
    {
      "cell_type": "markdown",
      "source": [
        "### Objectives\n",
        "\n",
        "At the end of this activity, you will be able to do the following:\n",
        "1. Understand matrices and how they relate to linear equations.\n",
        "2. Perform basic matrix operations.\n",
        "3. Matrix equations and operations can be programmed and translated using Python."
      ],
      "metadata": {
        "id": "VLnr3hBd_t38"
      }
    },
    {
      "cell_type": "markdown",
      "source": [
        "##Discussion"
      ],
      "metadata": {
        "id": "RwOWv8tlR5M1"
      }
    },
    {
      "cell_type": "code",
      "source": [
        "import numpy as np\n",
        "import matplotlib.pyplot as plt\n",
        "import scipy.linalg as plt\n",
        "%matplotlib inline"
      ],
      "metadata": {
        "id": "bMwDsm8fSDvr"
      },
      "execution_count": null,
      "outputs": []
    },
    {
      "cell_type": "markdown",
      "source": [
        "##Matrices\n",
        "\n",
        "One of the fundamentals of modern computing is the use and notation of matrices. Matrices can also be used to represent complex equations or multiple interconnected equations, ranging from 2-dimensional to hundreds of thousands of them."
      ],
      "metadata": {
        "id": "eJn1kB6aAC_D"
      }
    },
    {
      "cell_type": "markdown",
      "source": [
        ""
      ],
      "metadata": {
        "id": "mJuSGuODAL9v"
      }
    },
    {
      "cell_type": "markdown",
      "source": [
        "$$\n",
        "A = \\left\\{\n",
        "    \\begin{array}\\\n",
        "        x + y\\\\\n",
        "        4x - 10y\n",
        "    \\end{array}\n",
        "\\right.\\\\\n",
        "B = \\left\\{\n",
        "    \\begin{array}\\\n",
        "      x+y+z \\\\\n",
        "      3x -2y -z \\\\\n",
        "      -x + 4y +2z\n",
        "    \\end{array}\n",
        "\\right. \\\\\n",
        "C = \\left\\{\n",
        "    \\begin{array}\\\n",
        "      w-2x+3y-4z \\\\\n",
        "      3w- x -2y +z \\\\\n",
        "      2w -x + 3y - 2z\n",
        "    \\end{array}\n",
        "\\right. \n",
        "$$"
      ],
      "metadata": {
        "id": "MWUvBuzSSenD"
      }
    },
    {
      "cell_type": "markdown",
      "source": [
        "*X* is a two-parameter system of two equations, as we can see. Y, on the other hand, is a three-equation, three-parameter system. They can be represented as matrices in the following ways:"
      ],
      "metadata": {
        "id": "PD4KYl4PAfuN"
      }
    },
    {
      "cell_type": "markdown",
      "source": [
        "$$\n",
        "A=\\begin{bmatrix} 1 & 1 \\\\ 4 & {-10}\\end{bmatrix} \\\\\n",
        "B=\\begin{bmatrix} 1 & 1 & 1 \\\\ 3 & -2 & -1 \\\\ -1 & 4 & 2\\end{bmatrix}\\\\\n",
        "C=\\begin{bmatrix} 1 & -2 & 3 & -4 \\\\ 3 & -1 & -2 & 1 \\\\ 2 & -1 & 3 & -2\\end{bmatrix}\n",
        "$$"
      ],
      "metadata": {
        "id": "qojJZNriQfv3"
      }
    },
    {
      "cell_type": "markdown",
      "source": [
        "Assuming you've already learned about matrix representation, types, and operations. From now on, we'll do them in Python."
      ],
      "metadata": {
        "id": "nXBkGylyAmJB"
      }
    },
    {
      "cell_type": "markdown",
      "source": [
        "#Declaring Matrices\n",
        "We'll use a matrix to represent a system of linear equations, as we did in the previous laboratory activity. The entities or numbers that comprise matrices are referred to as matrix elements. The list/array structure of matrices is formed by arranging and ordering these elements in rows and columns. These elements are indexed in the same way that arrays are, based on their position in relation to their rows and columns. The following equation can be used to represent this. X, on the other hand, is a matrices composed of xi,j elements. The number of rows in the matrix is denoted by i, while the number of columns is denoted by j.\n",
        "Keep in mind that the size of a matrix is i x j."
      ],
      "metadata": {
        "id": "VJwCENJgAnki"
      }
    },
    {
      "cell_type": "markdown",
      "source": [
        "$$A=\\begin{bmatrix}\n",
        "a_{(0,0)}&a_{(0,1)}&\\dots&a_{(0,j-1)}\n",
        "\\\\\n",
        "a_{(1,0)}&a_{(1,1)}&\\dots&a_{(1,j-1)}\n",
        "\\\\\n",
        "\\vdots&\\vdots&\\ddots&\\vdots&\\\\\n",
        "a_{(i-1,0)}&a_{(i-1,1)}&\\dots&a_{\n",
        "(i-1,j-1)}\n",
        "\\end{bmatrix}\n",
        "$$"
      ],
      "metadata": {
        "id": "8V5DApYpA-vJ"
      }
    },
    {
      "cell_type": "code",
      "source": [
        "def describe_mat(matrix):\n",
        "    print(f'Matrix:\\n{matrix}\\n\\nShape:\\t{matrix.shape}\\nRank:\\t{matrix.ndim}\\n')"
      ],
      "metadata": {
        "id": "D3YC-astZTe3"
      },
      "execution_count": null,
      "outputs": []
    },
    {
      "cell_type": "code",
      "source": [
        "A = np.array([\n",
        "    [1, 2],\n",
        "    [3, 1]\n",
        "])\n",
        "describe_mat(A)"
      ],
      "metadata": {
        "id": "P7aDu_JRZarb",
        "outputId": "e81daa55-8c80-47ea-be6e-9b850e643aa0",
        "colab": {
          "base_uri": "https://localhost:8080/"
        }
      },
      "execution_count": null,
      "outputs": [
        {
          "output_type": "stream",
          "name": "stdout",
          "text": [
            "Matrix:\n",
            "[[1 2]\n",
            " [3 1]]\n",
            "\n",
            "Shape:\t(2, 2)\n",
            "Rank:\t2\n",
            "\n"
          ]
        }
      ]
    },
    {
      "cell_type": "code",
      "source": [
        "G = np.array([\n",
        "    [1,1,3],\n",
        "    [2,2,4]\n",
        "])\n",
        "describe_mat(G)"
      ],
      "metadata": {
        "colab": {
          "base_uri": "https://localhost:8080/"
        },
        "id": "-0aRv3eJZobR",
        "outputId": "b3dc6c8e-ef4c-4c65-d5e6-9e2e40fa4c07"
      },
      "execution_count": null,
      "outputs": [
        {
          "output_type": "stream",
          "name": "stdout",
          "text": [
            "Matrix:\n",
            "[[1 1 3]\n",
            " [2 2 4]]\n",
            "\n",
            "Shape:\t(2, 3)\n",
            "Rank:\t2\n",
            "\n"
          ]
        }
      ]
    },
    {
      "cell_type": "code",
      "source": [
        "B = np.array([\n",
        "    [8, 2],\n",
        "    [5, 4],\n",
        "    [1, 1]\n",
        "])\n",
        "describe_mat(B)"
      ],
      "metadata": {
        "colab": {
          "base_uri": "https://localhost:8080/"
        },
        "id": "sundEgduZtKt",
        "outputId": "1722c8f6-2df6-482a-bc30-a6a52aa82c34"
      },
      "execution_count": null,
      "outputs": [
        {
          "output_type": "stream",
          "name": "stdout",
          "text": [
            "Matrix:\n",
            "[[8 2]\n",
            " [5 4]\n",
            " [1 1]]\n",
            "\n",
            "Shape:\t(3, 2)\n",
            "Rank:\t2\n",
            "\n"
          ]
        }
      ]
    },
    {
      "cell_type": "code",
      "source": [
        "H = np.array([1,2,3,4])\n",
        "describe_mat(H)"
      ],
      "metadata": {
        "colab": {
          "base_uri": "https://localhost:8080/"
        },
        "id": "c28UjW0_Zy3_",
        "outputId": "f39fba87-dc95-4b99-af79-087d827f5261"
      },
      "execution_count": null,
      "outputs": [
        {
          "output_type": "stream",
          "name": "stdout",
          "text": [
            "Matrix:\n",
            "[1 2 3 4]\n",
            "\n",
            "Shape:\t(4,)\n",
            "Rank:\t1\n",
            "\n"
          ]
        }
      ]
    },
    {
      "cell_type": "markdown",
      "source": [
        "#Categorizing Matrices\n",
        "Matrixes can be classified in several ways. One could be based on their element values, while the other on their shape. We'll do our best to go through them."
      ],
      "metadata": {
        "id": "6senvfc1BrTb"
      }
    },
    {
      "cell_type": "markdown",
      "source": [
        "##According to shape\n"
      ],
      "metadata": {
        "id": "lznL1NmBB9dP"
      }
    },
    {
      "cell_type": "markdown",
      "source": [
        "###Row and column matrices\n",
        "Row and column matrices are frequently used in vector and matrix computations. They can also be used to represent a larger vector space's row and column spaces. A single column or row represents a row or column matrix. As a result, row matrices are 1 X j and column matrices are i x 1."
      ],
      "metadata": {
        "id": "jZ_s2hoBBxqV"
      }
    },
    {
      "cell_type": "markdown",
      "source": [
        "## Declaring a Row Matrix"
      ],
      "metadata": {
        "id": "GPXE2i56Z7da"
      }
    },
    {
      "cell_type": "code",
      "source": [
        "rowmatrix1D = np.array([\n",
        "    1, 3, 2, -4\n",
        "]) ## this is a 1-D Matrix with a shape of (3,), it's not really considered as a row matrix.\n",
        "row_mat_2D = np.array([\n",
        "    [1,2,3, -4]\n",
        "]) ## this is a 2-D Matrix with a shape of (1,3)\n",
        "describe_mat(rowmatrix1D)\n",
        "describe_mat(row_mat_2D)"
      ],
      "metadata": {
        "colab": {
          "base_uri": "https://localhost:8080/"
        },
        "id": "FzwsPFjAZ4em",
        "outputId": "c504edae-aaaf-4b55-eed0-f140a588672d"
      },
      "execution_count": null,
      "outputs": [
        {
          "output_type": "stream",
          "name": "stdout",
          "text": [
            "Matrix:\n",
            "[ 1  3  2 -4]\n",
            "\n",
            "Shape:\t(4,)\n",
            "Rank:\t1\n",
            "\n",
            "Matrix:\n",
            "[[ 1  2  3 -4]]\n",
            "\n",
            "Shape:\t(1, 4)\n",
            "Rank:\t2\n",
            "\n"
          ]
        }
      ]
    },
    {
      "cell_type": "code",
      "source": [
        "col_mat = np.array([\n",
        "    [1],\n",
        "    [2],\n",
        "    [5]\n",
        "]) ## this is a 2-D Matrix with a shape of (3,1)\n",
        "describe_mat(col_mat)"
      ],
      "metadata": {
        "colab": {
          "base_uri": "https://localhost:8080/"
        },
        "id": "aaW30RLLaKhY",
        "outputId": "624fa874-31a0-4458-cffc-33892f7fb87d"
      },
      "execution_count": null,
      "outputs": [
        {
          "output_type": "stream",
          "name": "stdout",
          "text": [
            "Matrix:\n",
            "[[1]\n",
            " [2]\n",
            " [5]]\n",
            "\n",
            "Shape:\t(3, 1)\n",
            "Rank:\t2\n",
            "\n"
          ]
        }
      ]
    },
    {
      "cell_type": "markdown",
      "source": [
        "##Square matrices\n",
        "Square matrices have the same row and column dimensions. A matrix is said to be square if i=j. We can modify our matrix descriptor function to find square matrices."
      ],
      "metadata": {
        "id": "-sISAZkbCNr5"
      }
    },
    {
      "cell_type": "code",
      "source": [
        "def describe_mat(matrix):\n",
        "    is_square = True if matrix.shape[0] == matrix.shape[1] else False \n",
        "    print(f'Matrix:\\n{matrix}\\n\\nShape:\\t{matrix.shape}\\nRank:\\t{matrix.ndim}\\nIs Square: {is_square}\\n')"
      ],
      "metadata": {
        "id": "U9SgS5QnaPbX"
      },
      "execution_count": null,
      "outputs": []
    },
    {
      "cell_type": "code",
      "source": [
        "square_mat = np.array([\n",
        "    [1,2,5],\n",
        "    [3,3,8],\n",
        "    [6,1,2]\n",
        "])\n",
        "\n",
        "non_square_mat = np.array([\n",
        "    [1,2,5],\n",
        "    [3,3,8]\n",
        "])\n",
        "describe_mat(square_mat)\n",
        "describe_mat(non_square_mat)"
      ],
      "metadata": {
        "colab": {
          "base_uri": "https://localhost:8080/"
        },
        "id": "hDNCbV-9aVwC",
        "outputId": "bab08414-1e3a-42a1-92d9-c97b20d4cb72"
      },
      "execution_count": null,
      "outputs": [
        {
          "output_type": "stream",
          "name": "stdout",
          "text": [
            "Matrix:\n",
            "[[1 2 5]\n",
            " [3 3 8]\n",
            " [6 1 2]]\n",
            "\n",
            "Shape:\t(3, 3)\n",
            "Rank:\t2\n",
            "Is Square: True\n",
            "\n",
            "Matrix:\n",
            "[[1 2 5]\n",
            " [3 3 8]]\n",
            "\n",
            "Shape:\t(2, 3)\n",
            "Rank:\t2\n",
            "Is Square: False\n",
            "\n"
          ]
        }
      ]
    },
    {
      "cell_type": "markdown",
      "source": [
        "##According to element values"
      ],
      "metadata": {
        "id": "5G3CbglfCV-o"
      }
    },
    {
      "cell_type": "markdown",
      "source": [
        "###Null Matrix\n",
        "A Null Matrix is one that contains no elements. It's always a vector or a matrices subspace."
      ],
      "metadata": {
        "id": "mGOTqlr5Ce5z"
      }
    },
    {
      "cell_type": "code",
      "source": [
        "def describe_mat(matrix):\n",
        "    if matrix.size > 0:\n",
        "        is_square = True if matrix.shape[0] == matrix.shape[1] else False \n",
        "        print(f'Matrix:\\n{matrix}\\n\\nShape:\\t{matrix.shape}\\nRank:\\t{matrix.ndim}\\nIs Square: {is_square}\\n')\n",
        "    else:\n",
        "        print('Matrix is Null')"
      ],
      "metadata": {
        "id": "wDL8Eyxpaa9C"
      },
      "execution_count": null,
      "outputs": []
    },
    {
      "cell_type": "code",
      "source": [
        "null_mat = np.array([])\n",
        "describe_mat(null_mat)"
      ],
      "metadata": {
        "id": "6F04Tpd7aei8"
      },
      "execution_count": null,
      "outputs": []
    },
    {
      "cell_type": "markdown",
      "source": [
        "##Zero Matrix\n",
        "A zero matrix can be any rectangular matrix, but all of its elements must be 0 in order to be considered."
      ],
      "metadata": {
        "id": "TXqpzjbZCpsP"
      }
    },
    {
      "cell_type": "code",
      "source": [
        "zero_mat_row = np.zeros((1,2))\n",
        "zero_mat_sqr = np.zeros((2,2))\n",
        "zero_mat_rct = np.zeros((3,2))\n",
        "\n",
        "print(f'Zero Row Matrix: \\n{zero_mat_row}')\n",
        "print(f'Zero Square Matrix: \\n{zero_mat_sqr}')\n",
        "print(f'Zero Rectangular Matrix: \\n{zero_mat_rct}')"
      ],
      "metadata": {
        "colab": {
          "base_uri": "https://localhost:8080/"
        },
        "id": "V9xSPtteaidD",
        "outputId": "408dde3f-358a-4d07-da1d-d25f942beccc"
      },
      "execution_count": null,
      "outputs": [
        {
          "output_type": "stream",
          "name": "stdout",
          "text": [
            "Zero Row Matrix: \n",
            "[[0. 0.]]\n",
            "Zero Square Matrix: \n",
            "[[0. 0.]\n",
            " [0. 0.]]\n",
            "Zero Rectangular Matrix: \n",
            "[[0. 0.]\n",
            " [0. 0.]\n",
            " [0. 0.]]\n"
          ]
        }
      ]
    },
    {
      "cell_type": "markdown",
      "source": [
        "##One Matrix\n",
        "A ones matrix, like a zero matrix, can be any rectangular matrix whose elements are all 1s rather than 0s."
      ],
      "metadata": {
        "id": "_P9ybGi_CzAE"
      }
    },
    {
      "cell_type": "code",
      "source": [
        "ones_mat_row = np.ones((1,2))\n",
        "ones_mat_sqr = np.ones((2,2))\n",
        "ones_mat_rct = np.ones((3,2))\n",
        "\n",
        "print(f'Ones Row Matrix: \\n{ones_mat_row}')\n",
        "print(f'Ones Square Matrix: \\n{ones_mat_sqr}')\n",
        "print(f'Ones Rectangular Matrix: \\n{ones_mat_rct}')"
      ],
      "metadata": {
        "colab": {
          "base_uri": "https://localhost:8080/"
        },
        "id": "OS505VqIaoty",
        "outputId": "0beb3b99-b333-4b12-9ded-3c889d41bc4d"
      },
      "execution_count": null,
      "outputs": [
        {
          "output_type": "stream",
          "name": "stdout",
          "text": [
            "Ones Row Matrix: \n",
            "[[1. 1.]]\n",
            "Ones Square Matrix: \n",
            "[[1. 1.]\n",
            " [1. 1.]]\n",
            "Ones Rectangular Matrix: \n",
            "[[1. 1.]\n",
            " [1. 1.]\n",
            " [1. 1.]]\n"
          ]
        }
      ]
    },
    {
      "cell_type": "markdown",
      "source": [
        "##Diagonal Matrix\n",
        "A diagonal matrix is a square matrix that only has values along one of its diagonals."
      ],
      "metadata": {
        "id": "1fJTeRyfDIy6"
      }
    },
    {
      "cell_type": "code",
      "source": [
        "np.array([\n",
        "    [2,0,0],\n",
        "    [0,3,0],\n",
        "    [0,0,5]\n",
        "])"
      ],
      "metadata": {
        "colab": {
          "base_uri": "https://localhost:8080/"
        },
        "id": "4_VHHmfKat8W",
        "outputId": "cc8ffa65-cc31-4e69-9db7-f0e9c6838657"
      },
      "execution_count": null,
      "outputs": [
        {
          "output_type": "execute_result",
          "data": {
            "text/plain": [
              "array([[2, 0, 0],\n",
              "       [0, 3, 0],\n",
              "       [0, 0, 5]])"
            ]
          },
          "metadata": {},
          "execution_count": 23
        }
      ]
    },
    {
      "cell_type": "code",
      "source": [
        "d = np.diag([2,3,5,7])\n",
        "#d.shape[0] == d.shape[1]\n",
        "d"
      ],
      "metadata": {
        "id": "La6p5P97a31M"
      },
      "execution_count": null,
      "outputs": []
    },
    {
      "cell_type": "markdown",
      "source": [
        "##Identity Matrix\n",
        "An identity matrix is a diagonal matrix with all diagonal values equal to one."
      ],
      "metadata": {
        "id": "WqezBufFDSf3"
      }
    },
    {
      "cell_type": "code",
      "source": [
        "np.identity(10)"
      ],
      "metadata": {
        "colab": {
          "base_uri": "https://localhost:8080/"
        },
        "id": "NXZblY3Ea5u3",
        "outputId": "b81ec20f-905f-484c-c5a0-e562c534d47c"
      },
      "execution_count": null,
      "outputs": [
        {
          "output_type": "execute_result",
          "data": {
            "text/plain": [
              "array([[1., 0., 0., 0., 0., 0., 0., 0., 0., 0.],\n",
              "       [0., 1., 0., 0., 0., 0., 0., 0., 0., 0.],\n",
              "       [0., 0., 1., 0., 0., 0., 0., 0., 0., 0.],\n",
              "       [0., 0., 0., 1., 0., 0., 0., 0., 0., 0.],\n",
              "       [0., 0., 0., 0., 1., 0., 0., 0., 0., 0.],\n",
              "       [0., 0., 0., 0., 0., 1., 0., 0., 0., 0.],\n",
              "       [0., 0., 0., 0., 0., 0., 1., 0., 0., 0.],\n",
              "       [0., 0., 0., 0., 0., 0., 0., 1., 0., 0.],\n",
              "       [0., 0., 0., 0., 0., 0., 0., 0., 1., 0.],\n",
              "       [0., 0., 0., 0., 0., 0., 0., 0., 0., 1.]])"
            ]
          },
          "metadata": {},
          "execution_count": 25
        }
      ]
    },
    {
      "cell_type": "code",
      "source": [
        "np.eye(3)"
      ],
      "metadata": {
        "colab": {
          "base_uri": "https://localhost:8080/"
        },
        "id": "SDgQrs-ca7EG",
        "outputId": "8b788193-93b5-4bc1-c03c-8dd4bba0174b"
      },
      "execution_count": null,
      "outputs": [
        {
          "output_type": "execute_result",
          "data": {
            "text/plain": [
              "array([[1., 0., 0.],\n",
              "       [0., 1., 0.],\n",
              "       [0., 0., 1.]])"
            ]
          },
          "metadata": {},
          "execution_count": 26
        }
      ]
    },
    {
      "cell_type": "markdown",
      "source": [
        "##Upper Triangular Matrix\n",
        "An upper triangular matrix is one that has no values below the diagonal."
      ],
      "metadata": {
        "id": "bwbmIyy3Dkx7"
      }
    },
    {
      "cell_type": "code",
      "source": [
        "np.array([\n",
        "    [1,2,3,4],\n",
        "    [0,3,1,-1],\n",
        "    [0,0,5,2],\n",
        "    [0,0,0,2]\n",
        "])"
      ],
      "metadata": {
        "colab": {
          "base_uri": "https://localhost:8080/"
        },
        "id": "KDvFsl0tbA5k",
        "outputId": "726bbece-0e95-4d78-bd42-dc4f587a913f"
      },
      "execution_count": null,
      "outputs": [
        {
          "output_type": "execute_result",
          "data": {
            "text/plain": [
              "array([[ 1,  2,  3,  4],\n",
              "       [ 0,  3,  1, -1],\n",
              "       [ 0,  0,  5,  2],\n",
              "       [ 0,  0,  0,  2]])"
            ]
          },
          "metadata": {},
          "execution_count": 27
        }
      ]
    },
    {
      "cell_type": "code",
      "source": [
        "F = np.array([\n",
        "              [2, -3, 4, -5, 6],\n",
        "              [2, -3, 4, -5, 6],\n",
        "              [2, -3, 4, -5, 6],\n",
        "              [2, -3, 4, -5, 6],\n",
        "              [2, -3, 4, -5, 6],\n",
        "])\n",
        "np.triu(F)"
      ],
      "metadata": {
        "colab": {
          "base_uri": "https://localhost:8080/"
        },
        "id": "emqswYylbM9x",
        "outputId": "64ce20e2-421d-4c5b-dad1-4776379a7d01"
      },
      "execution_count": null,
      "outputs": [
        {
          "output_type": "execute_result",
          "data": {
            "text/plain": [
              "array([[ 2, -3,  4, -5,  6],\n",
              "       [ 0, -3,  4, -5,  6],\n",
              "       [ 0,  0,  4, -5,  6],\n",
              "       [ 0,  0,  0, -5,  6],\n",
              "       [ 0,  0,  0,  0,  6]])"
            ]
          },
          "metadata": {},
          "execution_count": 28
        }
      ]
    },
    {
      "cell_type": "markdown",
      "source": [
        "##Lower Triangular Matrix\n",
        "There are no values above the diagonal in a lower triangular matrix."
      ],
      "metadata": {
        "id": "ouQpGWIHDvL5"
      }
    },
    {
      "cell_type": "code",
      "source": [
        "np.array([\n",
        "    [2,0,0],\n",
        "    [10,6,0],\n",
        "    [14,16,10]\n",
        "])"
      ],
      "metadata": {
        "id": "A38W1X5JD5Bx",
        "outputId": "fd7279cc-5683-4af6-c7a3-16ae33b4f2ca",
        "colab": {
          "base_uri": "https://localhost:8080/"
        }
      },
      "execution_count": null,
      "outputs": [
        {
          "output_type": "execute_result",
          "data": {
            "text/plain": [
              "array([[ 2,  0,  0],\n",
              "       [10,  6,  0],\n",
              "       [14, 16, 10]])"
            ]
          },
          "metadata": {},
          "execution_count": 10
        }
      ]
    },
    {
      "cell_type": "markdown",
      "source": [
        "#Matrix Algebra"
      ],
      "metadata": {
        "id": "PWRN88XID92g"
      }
    },
    {
      "cell_type": "markdown",
      "source": [
        "##Addition"
      ],
      "metadata": {
        "id": "SfZUnUWoEDEM"
      }
    },
    {
      "cell_type": "code",
      "source": [
        "X = np.array([\n",
        "    [2,4],\n",
        "    [4,6],\n",
        "    [8,2]\n",
        "])\n",
        "Y = np.array([\n",
        "    [4,4],\n",
        "    [0,0],\n",
        "    [2,2]\n",
        "])\n",
        "X+Y"
      ],
      "metadata": {
        "id": "3978vEqOEGb1"
      },
      "execution_count": null,
      "outputs": []
    },
    {
      "cell_type": "code",
      "source": [
        "4+X ##Broadcasting\n",
        "# 4*np.ones(A.shape)+A"
      ],
      "metadata": {
        "id": "IDn-DB2LEH-8"
      },
      "execution_count": null,
      "outputs": []
    },
    {
      "cell_type": "markdown",
      "source": [
        "##Subtraction"
      ],
      "metadata": {
        "id": "OLV1Xd2_EKwl"
      }
    },
    {
      "cell_type": "code",
      "source": [
        "X-Y"
      ],
      "metadata": {
        "id": "nxieePa5EQQz"
      },
      "execution_count": null,
      "outputs": []
    },
    {
      "cell_type": "code",
      "source": [
        "6-Y == 6*np.ones(Y.shape)-Y"
      ],
      "metadata": {
        "id": "fsV-3Zl5ETBW"
      },
      "execution_count": null,
      "outputs": []
    },
    {
      "cell_type": "markdown",
      "source": [
        "##Element-wise Multiplication"
      ],
      "metadata": {
        "id": "96pJKRHyEUAI"
      }
    },
    {
      "cell_type": "code",
      "source": [
        "X*Y\n",
        "np.multiply(X,Y)"
      ],
      "metadata": {
        "id": "Fi0U21MUEa-K"
      },
      "execution_count": null,
      "outputs": []
    },
    {
      "cell_type": "code",
      "source": [
        "4*X"
      ],
      "metadata": {
        "id": "GS2Ls1e4EcUA"
      },
      "execution_count": null,
      "outputs": []
    },
    {
      "cell_type": "code",
      "source": [
        "X @ Y"
      ],
      "metadata": {
        "id": "1zi8eXboEeUE"
      },
      "execution_count": null,
      "outputs": []
    },
    {
      "cell_type": "code",
      "source": [
        "alpha=20**-20\n",
        "X/(alpha+Y)"
      ],
      "metadata": {
        "id": "OKGgVvjmEpha"
      },
      "execution_count": null,
      "outputs": []
    },
    {
      "cell_type": "code",
      "source": [
        "np.add(X,Y)"
      ],
      "metadata": {
        "id": "h8MeXuW-EsJW"
      },
      "execution_count": null,
      "outputs": []
    },
    {
      "cell_type": "markdown",
      "source": [
        "#Activity"
      ],
      "metadata": {
        "id": "zJdZEUkmE_5x"
      }
    },
    {
      "cell_type": "markdown",
      "source": [
        "##Task 1\n",
        "Create a function named mat_desc() that througouhly describes a matrix, it should:\n",
        "\n",
        "\n",
        "1.   Displays the shape, size, and rank of the matrix.\n",
        "2.   Displays whether the matrix is square or non-square.\n",
        "3.   Displays whether the matrix is an empty matrix.\n",
        "4.   Displays if the matrix is an identity, ones, or zeros matrix\n",
        "\n",
        "Use 5 sample matrices in which their shapes are not lower than (3,3). In your methodology, create a flowchart discuss the functions and methods you have done. Present your results in the results section showing the description of each matrix you have declared."
      ],
      "metadata": {
        "id": "7w8_vbc1FaV0"
      }
    },
    {
      "cell_type": "code",
      "source": [
        "import numpy as np"
      ],
      "metadata": {
        "id": "YobsGVErFcQH"
      },
      "execution_count": 1,
      "outputs": []
    },
    {
      "cell_type": "code",
      "source": [
        "# mat_desc function\n",
        "\n",
        "def mat_desc(matrix):\n",
        "  square = False\n",
        "  matrix = np.array(matrix)\n",
        "  print(matrix)\n",
        "  print('Shape', matrix.shape)\n",
        "  print('Size', matrix.size)\n",
        "  print('Rank', np.linalg.matrix_rank(matrix))\n",
        "  if(matrix.shape[0] == matrix.shape[1]):\n",
        "    square = True\n",
        "    print('Square Matrix')\n",
        "  else: \n",
        "    print('Non-Square Matrix')\n",
        "  if(matrix.shape[0] == 0 and matrix.shape[1] == 0):\n",
        "    print('Empty Matrix')\n",
        "  else:\n",
        "    print('Matrix in not empty')\n",
        "  iden = np.identity(matrix.shape[0])\n",
        "  if(square and (iden == matrix).all()):\n",
        "    print('Identity Matrix')\n",
        "  else:\n",
        "    print('Not identity matrix')\n",
        "  one = np.ones((matrix.shape[0], matrix.shape[1]))\n",
        "  if(one == matrix).all ():\n",
        "    print('Ones matrix')\n",
        "  else:\n",
        "    print('Not a Ones Matrix')\n",
        "  zero = np.zeros((matrix.shape[0], matrix.shape[1]))\n",
        "  if((zero == matrix).all()):\n",
        "    print('Zero Matrix')\n",
        "  else:\n",
        "    print('Non-Zero Matrix')"
      ],
      "metadata": {
        "id": "Iqqs5NFBFh7X"
      },
      "execution_count": 2,
      "outputs": []
    },
    {
      "cell_type": "code",
      "source": [
        "print ('Matrix 1:')\n",
        "mat_desc([[12,14], [18,21], [23,25], [22,33], [5,5]])\n",
        "\n",
        "print ('Matrix 2:')\n",
        "mat_desc([[31,3], [19,25], [33,22], [12,12]])\n",
        "\n",
        "print ('Matrix 3:')\n",
        "mat_desc([[7,21], [3,5], [10,20], [5,7]])\n",
        "\n",
        "print ('Matrix 4:')\n",
        "mat_desc([[8,10], [12,20], [30,40], [12,18]])\n",
        "\n",
        "print ('Matrix 5:')\n",
        "mat_desc([[12,2,3], [14,2,28], [5,1,30]])"
      ],
      "metadata": {
        "id": "-lEGHpj6h780",
        "outputId": "e9281871-91cb-4dea-dca8-520fe1444fc5",
        "colab": {
          "base_uri": "https://localhost:8080/"
        }
      },
      "execution_count": 3,
      "outputs": [
        {
          "output_type": "stream",
          "name": "stdout",
          "text": [
            "Matrix 1:\n",
            "[[12 14]\n",
            " [18 21]\n",
            " [23 25]\n",
            " [22 33]\n",
            " [ 5  5]]\n",
            "Shape (5, 2)\n",
            "Size 10\n",
            "Rank 2\n",
            "Non-Square Matrix\n",
            "Matrix in not empty\n",
            "Not identity matrix\n",
            "Not a Ones Matrix\n",
            "Non-Zero Matrix\n",
            "Matrix 2:\n",
            "[[31  3]\n",
            " [19 25]\n",
            " [33 22]\n",
            " [12 12]]\n",
            "Shape (4, 2)\n",
            "Size 8\n",
            "Rank 2\n",
            "Non-Square Matrix\n",
            "Matrix in not empty\n",
            "Not identity matrix\n",
            "Not a Ones Matrix\n",
            "Non-Zero Matrix\n",
            "Matrix 3:\n",
            "[[ 7 21]\n",
            " [ 3  5]\n",
            " [10 20]\n",
            " [ 5  7]]\n",
            "Shape (4, 2)\n",
            "Size 8\n",
            "Rank 2\n",
            "Non-Square Matrix\n",
            "Matrix in not empty\n",
            "Not identity matrix\n",
            "Not a Ones Matrix\n",
            "Non-Zero Matrix\n",
            "Matrix 4:\n",
            "[[ 8 10]\n",
            " [12 20]\n",
            " [30 40]\n",
            " [12 18]]\n",
            "Shape (4, 2)\n",
            "Size 8\n",
            "Rank 2\n",
            "Non-Square Matrix\n",
            "Matrix in not empty\n",
            "Not identity matrix\n",
            "Not a Ones Matrix\n",
            "Non-Zero Matrix\n",
            "Matrix 5:\n",
            "[[12  2  3]\n",
            " [14  2 28]\n",
            " [ 5  1 30]]\n",
            "Shape (3, 3)\n",
            "Size 9\n",
            "Rank 3\n",
            "Square Matrix\n",
            "Matrix in not empty\n",
            "Not identity matrix\n",
            "Not a Ones Matrix\n",
            "Non-Zero Matrix\n"
          ]
        }
      ]
    },
    {
      "cell_type": "markdown",
      "source": [
        "###Task 2\n",
        "\n",
        "\n",
        "Create a function named mat_operations() that takes in two matrices a input parameters it should:\n",
        "\n",
        "\n",
        "\n",
        "1.   Determines if the matrices are viable for operation and returns your own error message if they are not viable.\n",
        "2.   Returns the sum of the matrices.\n",
        "3.   Returns the differen of the matrices.\n",
        "4.   Returns the element-wise multiplication of the matrices.\n",
        "5.   Returns the element-wise division of the matrices.\n",
        "\n",
        "Use 5 sample matrices in which their shapes are not lower than (3,3). In your methodology, create a flowchart discuss the functions and methods you have done. Present your results in the results section showing the description of each matrix you have declared."
      ],
      "metadata": {
        "id": "wpGOzSFyFnul"
      }
    },
    {
      "cell_type": "code",
      "source": [
        "def mat_operations(matrix1, matrix2):\n",
        "    matrix1 = np.array(matrix1)\n",
        "    matrix2 = np.array(matrix2)\n",
        "    print('Matrix 1:', matrix1)\n",
        "    print('Matrix 2:', matrix2)\n",
        "    if(matrix1.shape != matrix2.shape):\n",
        "        print('The matrices are not equal and invalid size operation.')\n",
        "        return\n",
        "    print('Sum of the  matrices:')\n",
        "    matrixsum = matrix1 + matrix2\n",
        "    print(matrixsum)\n",
        "    print('Difference of the  matrices:')\n",
        "    matrixdifference = matrix1 - matrix2\n",
        "    print(matrixdifference)\n",
        "    print('Element-wise multiplication of the  matrices:')\n",
        "    matrixproduct = np.multiply(matrix1, matrix2)\n",
        "    print(matrixproduct)\n",
        "    print('Element-wise division of the  matrices:')\n",
        "    matrixdividend = np.divide(matrix1, matrix2)\n",
        "    print(matrixdividend)"
      ],
      "metadata": {
        "id": "gkvjoBtriG3N"
      },
      "execution_count": 4,
      "outputs": []
    },
    {
      "cell_type": "code",
      "source": [
        "print('sample1:')\n",
        "mat_operations([[2,3,2], [5,4,7], [4,3,8]],[[3,4,5], [9,7,1],[1,2,6]])\n",
        "\n",
        "print('sample 2:')\n",
        "mat_operations([[2, 6, 3,4], [3,3,1,5], [5,1,5,7]], [[3,7,5,7],[1,2,1,9],[1,1,1,6]])\n",
        "\n",
        "print('sample 3:')\n",
        "mat_operations([[2, 5, 1], [3,6,3], [6,1,5]], [[5,4,2],[3,4,6],[3,2,3]])\n",
        "\n",
        "print('sample 4:')\n",
        "mat_operations([[6,2,1,8,2], [3,6,3,7,8], [6,1,5,9,2]], [[5,4,2,7,7],[3,4,6,8,9],[3,2,3,6,2]])\n",
        "\n",
        "print('sample 5:')\n",
        "mat_operations([[6,2,1,8,2,5], [3,6,3,7,8,8], [6,1,5,9,2,2]], [[5,4,2,7,7,8],[3,4,6,8,9,2],[3,2,3,6,2,1]])"
      ],
      "metadata": {
        "id": "fg880yaniHs1",
        "outputId": "c62cb07c-9f97-4e6a-e2e4-a4902965c43c",
        "colab": {
          "base_uri": "https://localhost:8080/"
        }
      },
      "execution_count": 5,
      "outputs": [
        {
          "output_type": "stream",
          "name": "stdout",
          "text": [
            "sample1:\n",
            "Matrix 1: [[2 3 2]\n",
            " [5 4 7]\n",
            " [4 3 8]]\n",
            "Matrix 2: [[3 4 5]\n",
            " [9 7 1]\n",
            " [1 2 6]]\n",
            "Sum of the  matrices:\n",
            "[[ 5  7  7]\n",
            " [14 11  8]\n",
            " [ 5  5 14]]\n",
            "Difference of the  matrices:\n",
            "[[-1 -1 -3]\n",
            " [-4 -3  6]\n",
            " [ 3  1  2]]\n",
            "Element-wise multiplication of the  matrices:\n",
            "[[ 6 12 10]\n",
            " [45 28  7]\n",
            " [ 4  6 48]]\n",
            "Element-wise division of the  matrices:\n",
            "[[0.66666667 0.75       0.4       ]\n",
            " [0.55555556 0.57142857 7.        ]\n",
            " [4.         1.5        1.33333333]]\n",
            "sample 2:\n",
            "Matrix 1: [[2 6 3 4]\n",
            " [3 3 1 5]\n",
            " [5 1 5 7]]\n",
            "Matrix 2: [[3 7 5 7]\n",
            " [1 2 1 9]\n",
            " [1 1 1 6]]\n",
            "Sum of the  matrices:\n",
            "[[ 5 13  8 11]\n",
            " [ 4  5  2 14]\n",
            " [ 6  2  6 13]]\n",
            "Difference of the  matrices:\n",
            "[[-1 -1 -2 -3]\n",
            " [ 2  1  0 -4]\n",
            " [ 4  0  4  1]]\n",
            "Element-wise multiplication of the  matrices:\n",
            "[[ 6 42 15 28]\n",
            " [ 3  6  1 45]\n",
            " [ 5  1  5 42]]\n",
            "Element-wise division of the  matrices:\n",
            "[[0.66666667 0.85714286 0.6        0.57142857]\n",
            " [3.         1.5        1.         0.55555556]\n",
            " [5.         1.         5.         1.16666667]]\n",
            "sample 3:\n",
            "Matrix 1: [[2 5 1]\n",
            " [3 6 3]\n",
            " [6 1 5]]\n",
            "Matrix 2: [[5 4 2]\n",
            " [3 4 6]\n",
            " [3 2 3]]\n",
            "Sum of the  matrices:\n",
            "[[ 7  9  3]\n",
            " [ 6 10  9]\n",
            " [ 9  3  8]]\n",
            "Difference of the  matrices:\n",
            "[[-3  1 -1]\n",
            " [ 0  2 -3]\n",
            " [ 3 -1  2]]\n",
            "Element-wise multiplication of the  matrices:\n",
            "[[10 20  2]\n",
            " [ 9 24 18]\n",
            " [18  2 15]]\n",
            "Element-wise division of the  matrices:\n",
            "[[0.4        1.25       0.5       ]\n",
            " [1.         1.5        0.5       ]\n",
            " [2.         0.5        1.66666667]]\n",
            "sample 4:\n",
            "Matrix 1: [[6 2 1 8 2]\n",
            " [3 6 3 7 8]\n",
            " [6 1 5 9 2]]\n",
            "Matrix 2: [[5 4 2 7 7]\n",
            " [3 4 6 8 9]\n",
            " [3 2 3 6 2]]\n",
            "Sum of the  matrices:\n",
            "[[11  6  3 15  9]\n",
            " [ 6 10  9 15 17]\n",
            " [ 9  3  8 15  4]]\n",
            "Difference of the  matrices:\n",
            "[[ 1 -2 -1  1 -5]\n",
            " [ 0  2 -3 -1 -1]\n",
            " [ 3 -1  2  3  0]]\n",
            "Element-wise multiplication of the  matrices:\n",
            "[[30  8  2 56 14]\n",
            " [ 9 24 18 56 72]\n",
            " [18  2 15 54  4]]\n",
            "Element-wise division of the  matrices:\n",
            "[[1.2        0.5        0.5        1.14285714 0.28571429]\n",
            " [1.         1.5        0.5        0.875      0.88888889]\n",
            " [2.         0.5        1.66666667 1.5        1.        ]]\n",
            "sample 5:\n",
            "Matrix 1: [[6 2 1 8 2 5]\n",
            " [3 6 3 7 8 8]\n",
            " [6 1 5 9 2 2]]\n",
            "Matrix 2: [[5 4 2 7 7 8]\n",
            " [3 4 6 8 9 2]\n",
            " [3 2 3 6 2 1]]\n",
            "Sum of the  matrices:\n",
            "[[11  6  3 15  9 13]\n",
            " [ 6 10  9 15 17 10]\n",
            " [ 9  3  8 15  4  3]]\n",
            "Difference of the  matrices:\n",
            "[[ 1 -2 -1  1 -5 -3]\n",
            " [ 0  2 -3 -1 -1  6]\n",
            " [ 3 -1  2  3  0  1]]\n",
            "Element-wise multiplication of the  matrices:\n",
            "[[30  8  2 56 14 40]\n",
            " [ 9 24 18 56 72 16]\n",
            " [18  2 15 54  4  2]]\n",
            "Element-wise division of the  matrices:\n",
            "[[1.2        0.5        0.5        1.14285714 0.28571429 0.625     ]\n",
            " [1.         1.5        0.5        0.875      0.88888889 4.        ]\n",
            " [2.         0.5        1.66666667 1.5        1.         2.        ]]\n"
          ]
        }
      ]
    }
  ]
}