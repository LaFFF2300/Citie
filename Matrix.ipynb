{
  "nbformat": 4,
  "nbformat_minor": 0,
  "metadata": {
    "colab": {
      "name": "Matrix",
      "provenance": [],
      "authorship_tag": "ABX9TyN4keg3VO2fToXEB+gpfpHS",
      "include_colab_link": true
    },
    "kernelspec": {
      "name": "python3",
      "display_name": "Python 3"
    },
    "language_info": {
      "name": "python"
    }
  },
  "cells": [
    {
      "cell_type": "markdown",
      "metadata": {
        "id": "view-in-github",
        "colab_type": "text"
      },
      "source": [
        "<a href=\"https://colab.research.google.com/github/LaFFF2300/Citie/blob/main/Matrix.ipynb\" target=\"_parent\"><img src=\"https://colab.research.google.com/assets/colab-badge.svg\" alt=\"Open In Colab\"/></a>"
      ]
    },
    {
      "cell_type": "markdown",
      "source": [
        "##Task 1\n",
        "Create a function named mat_desc() that througouhly describes a matrix, it should:\n",
        "\n",
        "\n",
        "1.   Displays the shape, size, and rank of the matrix.\n",
        "2.   Displays whether the matrix is square or non-square.\n",
        "3.   Displays whether the matrix is an empty matrix.\n",
        "4.   Displays if the matrix is an identity, ones, or zeros matrix\n",
        "\n",
        "Use 5 sample matrices in which their shapes are not lower than (3,3). In your methodology, create a flowchart discuss the functions and methods you have done. Present your results in the results section showing the description of each matrix you have declared."
      ],
      "metadata": {
        "id": "-ohLqs7ZsU9c"
      }
    },
    {
      "cell_type": "code",
      "source": [
        "import numpy as np"
      ],
      "metadata": {
        "id": "MW9AR2s451rG"
      },
      "execution_count": null,
      "outputs": []
    },
    {
      "cell_type": "code",
      "source": [
        "# mat_desc function\n",
        "\n",
        "def mat_desc(matrix):\n",
        "  square = False\n",
        "  matrix = np.array(matrix)\n",
        "  print(matrix)\n",
        "  print('Shape', matrix.shape)\n",
        "  print('Size', matrix.size)\n",
        "  print('Rank', np.linalg.matrix_rank(matrix))\n",
        "  if(matrix.shape[0] == matrix.shape[1]):\n",
        "    square = True\n",
        "    print('Square Matrix')\n",
        "  else: \n",
        "    print('Non-Square Matrix')\n",
        "  if(matrix.shape[0] == 0 and matrix.shape[1] == 0):\n",
        "    print('Empty Matrix')\n",
        "  else:\n",
        "    print('Matrix in not empty')\n",
        "  iden = np.identity(matrix.shape[0])\n",
        "  if(square and (iden == matrix).all()):\n",
        "    print('Identity Matrix')\n",
        "  else:\n",
        "    print('Not identity matrix')\n",
        "  one = np.ones((matrix.shape[0], matrix.shape[1]))\n",
        "  if(one == matrix).all ():\n",
        "    print('Ones matrix')\n",
        "  else:\n",
        "    print('Not a Ones Matrix')\n",
        "  zero = np.zeros((matrix.shape[0], matrix.shape[1]))\n",
        "  if((zero == matrix).all()):\n",
        "    print('Zero Matrix')\n",
        "  else:\n",
        "    print('Non-Zero Matrix')"
      ],
      "metadata": {
        "id": "5wa4GKwfsRdD"
      },
      "execution_count": 18,
      "outputs": []
    },
    {
      "cell_type": "code",
      "source": [
        "print ('Matrix 1:')\n",
        "mat_desc([[12,14,22], [2,4,6], [18,21,23], [23,24,25]])\n",
        "\n",
        "print ('Matrix 2:')\n",
        "mat_desc([[31,34,37], [43,46,49], [19,22,25], [12,12,12]])\n",
        "\n",
        "print ('Matrix 3:')\n",
        "mat_desc([[7,14,21], [1,2,3], [3,4,5], [5,6,7]])\n",
        "\n",
        "print ('Matrix 4:')\n",
        "mat_desc([[8,9,10], [12,16,20], [13,14,19], [12,16,18]])\n",
        "\n",
        "print ('Matrix 5:')\n",
        "mat_desc([[12,23,23], [2,22,22], [14,21,21], [5,10,10]])"
      ],
      "metadata": {
        "colab": {
          "base_uri": "https://localhost:8080/"
        },
        "id": "GZYELmSYsqwq",
        "outputId": "d96ffa4e-2066-40f4-cb8e-45640cc77641"
      },
      "execution_count": null,
      "outputs": [
        {
          "output_type": "stream",
          "name": "stdout",
          "text": [
            "Matrix 1:\n",
            "[[12 14 22]\n",
            " [ 2  4  6]\n",
            " [18 21 23]\n",
            " [23 24 25]]\n",
            "Shape (4, 3)\n",
            "Size 12\n",
            "Rank 3\n",
            "Non-Square Matrix\n",
            "Matrix in not empty\n",
            "Not identity matrix\n",
            "Not a Ones Matrix\n",
            "Non-Zero Matrix\n",
            "Matrix 2:\n",
            "[[31 34 37]\n",
            " [43 46 49]\n",
            " [19 22 25]\n",
            " [12 12 12]]\n",
            "Shape (4, 3)\n",
            "Size 12\n",
            "Rank 2\n",
            "Non-Square Matrix\n",
            "Matrix in not empty\n",
            "Not identity matrix\n",
            "Not a Ones Matrix\n",
            "Non-Zero Matrix\n",
            "Matrix 3:\n",
            "[[ 7 14 21]\n",
            " [ 1  2  3]\n",
            " [ 3  4  5]\n",
            " [ 5  6  7]]\n",
            "Shape (4, 3)\n",
            "Size 12\n",
            "Rank 2\n",
            "Non-Square Matrix\n",
            "Matrix in not empty\n",
            "Not identity matrix\n",
            "Not a Ones Matrix\n",
            "Non-Zero Matrix\n",
            "Matrix 4:\n",
            "[[ 8  9 10]\n",
            " [12 16 20]\n",
            " [13 14 19]\n",
            " [12 16 18]]\n",
            "Shape (4, 3)\n",
            "Size 12\n",
            "Rank 3\n",
            "Non-Square Matrix\n",
            "Matrix in not empty\n",
            "Not identity matrix\n",
            "Not a Ones Matrix\n",
            "Non-Zero Matrix\n",
            "Matrix 5:\n",
            "[[12 23 23]\n",
            " [ 2 22 22]\n",
            " [14 21 21]\n",
            " [ 5 10 10]]\n",
            "Shape (4, 3)\n",
            "Size 12\n",
            "Rank 2\n",
            "Non-Square Matrix\n",
            "Matrix in not empty\n",
            "Not identity matrix\n",
            "Not a Ones Matrix\n",
            "Non-Zero Matrix\n"
          ]
        }
      ]
    },
    {
      "cell_type": "markdown",
      "source": [
        "###Task 2\n",
        "\n",
        "\n",
        "Create a function named mat_operations() that takes in two matrices a input parameters it should:\n",
        "\n",
        "\n",
        "\n",
        "1.   Determines if the matrices are viable for operation and returns your own error message if they are not viable.\n",
        "2.   Returns the sum of the matrices.\n",
        "3.   Returns the differen of the matrices.\n",
        "4.   Returns the element-wise multiplication of the matrices.\n",
        "5.   Returns the element-wise division of the matrices.\n",
        "\n",
        "Use 5 sample matrices in which their shapes are not lower than (3,3). In your methodology, create a flowchart discuss the functions and methods you have done. Present your results in the results section showing the description of each matrix you have declared."
      ],
      "metadata": {
        "id": "wAtxQ7C8rofX"
      }
    },
    {
      "cell_type": "code",
      "source": [
        "def mat_operations(M1, M2) :\n",
        "    comp=True\n",
        "    n=0\n",
        "    for i in M1:\n",
        "      if len(i) !=len(M2 [n]):\n",
        "          comp=False\n",
        "      n+=1\n",
        "    output=[]\n",
        "    if comp:\n",
        "      n=0\n",
        "      for i in M1:\n",
        "        add=[]\n",
        "        m=0\n",
        "        for j in i:\n",
        "          add.append(j+M2[n][m])\n",
        "          m+=1\n",
        "        n+=1\n",
        "        output.append(add)\n",
        "    return output"
      ],
      "metadata": {
        "id": "Np1uoKl76aQR"
      },
      "execution_count": null,
      "outputs": []
    },
    {
      "cell_type": "code",
      "source": [
        "def mat_operations(mat1,mat2,result):\n",
        "  for i in range(size1):\n",
        "    for j in range(size2):\n",
        "      result[i][j]=mat1[i][j]-mat2[i][j]"
      ],
      "metadata": {
        "id": "_AGojrbx6f96"
      },
      "execution_count": null,
      "outputs": []
    },
    {
      "cell_type": "code",
      "source": [
        "def mat_operation(A,B):\n",
        "  result=[[1,2,3,4,5], [1,1,1,1,1], [2,2,2,2,2] ] \n",
        "  for i in range (len(A)):\n",
        "    for j in range (len(B[0])):\n",
        "      for k in range(len(B)):\n",
        "        result[i][j] += A[i][k]\n",
        "\n",
        "  for p in result: \n",
        "      print (p)\n",
        "  return 0"
      ],
      "metadata": {
        "id": "6C-YxtXu6ggJ"
      },
      "execution_count": null,
      "outputs": []
    }
  ]
}