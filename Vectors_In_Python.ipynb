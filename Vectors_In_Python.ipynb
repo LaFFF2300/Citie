{
  "nbformat": 4,
  "nbformat_minor": 0,
  "metadata": {
    "colab": {
      "name": "Vectors In Python",
      "provenance": [],
      "authorship_tag": "ABX9TyNo6Yo+QUfUZ8+Zt86rkVSu",
      "include_colab_link": true
    },
    "kernelspec": {
      "name": "python3",
      "display_name": "Python 3"
    },
    "language_info": {
      "name": "python"
    }
  },
  "cells": [
    {
      "cell_type": "markdown",
      "metadata": {
        "id": "view-in-github",
        "colab_type": "text"
      },
      "source": [
        "<a href=\"https://colab.research.google.com/github/LaFFF2300/Citie/blob/main/Vectors_In_Python.ipynb\" target=\"_parent\"><img src=\"https://colab.research.google.com/assets/colab-badge.svg\" alt=\"Open In Colab\"/></a>"
      ]
    },
    {
      "cell_type": "markdown",
      "source": [
        "# Laboraty 9 - Vectors in Phythone"
      ],
      "metadata": {
        "id": "k8noOsqOdnVD"
      }
    },
    {
      "cell_type": "markdown",
      "source": [
        "In this laboratory we will be discussing the basics of numerical and scientific programming by working with Vectors using NumPy and MatPlotLib."
      ],
      "metadata": {
        "id": "6VBGVFMnd-BC"
      }
    },
    {
      "cell_type": "markdown",
      "source": [
        "### Objectives\n",
        "At the end of this activity you will be able to:\n",
        "1. Be familiar with the libraries in Python for numerical and scientific programming.\n",
        "2. Visualize vectors through Python programming.\n",
        "3. Perform simple vector operations through code."
      ],
      "metadata": {
        "id": "YlCggYk3eDEe"
      }
    },
    {
      "cell_type": "markdown",
      "source": [
        "##Discussion"
      ],
      "metadata": {
        "id": "IDoxJ2xDg-O8"
      }
    },
    {
      "cell_type": "markdown",
      "source": [
        "###Representing Vectors"
      ],
      "metadata": {
        "id": "9ssRw3AkhKV2"
      }
    },
    {
      "cell_type": "markdown",
      "source": [
        "Now that you know how to represent vectors using their component and matrix form we can now hard-code them in Python. Let's say that you have the vectors:"
      ],
      "metadata": {
        "id": "txYYCnY-hQXc"
      }
    },
    {
      "cell_type": "markdown",
      "source": [
        "$$ A = 3\\hat{x} + 2\\hat{y} \\\\\n",
        "B = 1\\hat{x} - 4\\hat{y}\\\\\n",
        "C = 3ax + 2ay - 1az \\\\\n",
        "D = 1\\hat{i} - 1\\hat{j} + 2\\hat{k}$$"
      ],
      "metadata": {
        "id": "CBOirlCBhYSy"
      }
    },
    {
      "cell_type": "markdown",
      "source": [
        "Its matrix equivalent is:"
      ],
      "metadata": {
        "id": "W2SMWqLtiEbo"
      }
    },
    {
      "cell_type": "markdown",
      "source": [
        "$$ A = \\begin{bmatrix} 4 \\\\ 3\\end{bmatrix} , B = \\begin{bmatrix} 2 \\\\ -5\\end{bmatrix} , C = \\begin{bmatrix} 4 \\\\ 3 \\\\  -2 \\end{bmatrix}, D = \\begin{bmatrix} 2 \\\\ -2 \\\\ 3\\end{bmatrix}\n",
        "$$\n",
        "$$ A = \\begin{bmatrix} 4 & 3\\end{bmatrix} , B = \\begin{bmatrix} 2 & -5\\end{bmatrix} , C = \\begin{bmatrix} 4 & 3 & -2\\end{bmatrix} , D = \\begin{bmatrix} 2 & -2 & 3\\end{bmatrix} \n",
        "$$"
      ],
      "metadata": {
        "id": "bF7CoX8kh_uv"
      }
    },
    {
      "cell_type": "code",
      "source": [
        "## Importing necessary libraries\n",
        "import numpy as np ## 'np' here is short-hand name of the library (numpy) or a nickname."
      ],
      "metadata": {
        "id": "baW6JolzkbNW"
      },
      "execution_count": 2,
      "outputs": []
    },
    {
      "cell_type": "code",
      "source": [
        "L = np.array([6, 2])\n",
        "M = np.array([8, -6])\n",
        "N = np.array([\n",
        "              [4],\n",
        "              [4],\n",
        "              [-3]\n",
        "])\n",
        "O = np.array ([[5],\n",
        "              [-2],\n",
        "              [3]])\n",
        "print('Vector L is ', L)\n",
        "print('Vector M is ', M)\n",
        "print('Vector N is ', N)\n",
        "print('Vector O is ', O)"
      ],
      "metadata": {
        "colab": {
          "base_uri": "https://localhost:8080/"
        },
        "id": "Xl3NZ6R0i8FE",
        "outputId": "3b1ecab9-6116-4eb0-f9e7-9949c728768f"
      },
      "execution_count": 6,
      "outputs": [
        {
          "output_type": "stream",
          "name": "stdout",
          "text": [
            "Vector L is  [6 2]\n",
            "Vector M is  [ 8 -6]\n",
            "Vector N is  [[ 4]\n",
            " [ 4]\n",
            " [-3]]\n",
            "Vector O is  [[ 5]\n",
            " [-2]\n",
            " [ 3]]\n"
          ]
        }
      ]
    },
    {
      "cell_type": "markdown",
      "source": [
        "### Describing vectors in NumPy"
      ],
      "metadata": {
        "id": "cQG_0Ty4jWF8"
      }
    },
    {
      "cell_type": "markdown",
      "source": [
        "Describing vectors is very important if we want to perform basic to advanced operations. The fundamental ways in describing vectors are knowing their shape, size and dimensions."
      ],
      "metadata": {
        "id": "ZLWa-CFYje7m"
      }
    },
    {
      "cell_type": "code",
      "source": [
        "### Checking shapes\n",
        "### Shapes tells us how many elements are there on each row and column\n",
        "\n",
        "L.shape\n",
        "H = np.array([3, 2, 2, 7, 2, 1])\n",
        "H.shape\n",
        "N.shape"
      ],
      "metadata": {
        "colab": {
          "base_uri": "https://localhost:8080/"
        },
        "id": "cChbP5LhjnYq",
        "outputId": "8aa44608-826e-4893-b6f4-2da4f78dfc5e"
      },
      "execution_count": 7,
      "outputs": [
        {
          "output_type": "execute_result",
          "data": {
            "text/plain": [
              "(3, 1)"
            ]
          },
          "metadata": {},
          "execution_count": 7
        }
      ]
    },
    {
      "cell_type": "code",
      "source": [
        "### Checking size\n",
        "### Array/Vector sizes tells us many total number of elements are there in the vector\n",
        "\n",
        "O.size"
      ],
      "metadata": {
        "colab": {
          "base_uri": "https://localhost:8080/"
        },
        "id": "OnbZbeDWj96w",
        "outputId": "64820635-a88a-457e-fea3-5bd4c723cf72"
      },
      "execution_count": 8,
      "outputs": [
        {
          "output_type": "execute_result",
          "data": {
            "text/plain": [
              "3"
            ]
          },
          "metadata": {},
          "execution_count": 8
        }
      ]
    },
    {
      "cell_type": "code",
      "source": [
        "### Checking dimensions\n",
        "### The dimensions or rank of a vector tells us how many dimensions are there for the vector.\n",
        "\n",
        "O.ndim"
      ],
      "metadata": {
        "colab": {
          "base_uri": "https://localhost:8080/"
        },
        "id": "DsUd9PxykAkc",
        "outputId": "60e0931d-9373-4c7e-d929-5e11aaded66f"
      },
      "execution_count": 9,
      "outputs": [
        {
          "output_type": "execute_result",
          "data": {
            "text/plain": [
              "2"
            ]
          },
          "metadata": {},
          "execution_count": 9
        }
      ]
    },
    {
      "cell_type": "markdown",
      "source": [
        "### Operation\n",
        "\n",
        "The addition rule is simple, the we just need to add the elements of the matrices according to their index. So in this case if we add vector $L$ and vector $M$ we will have a resulting vector:\n",
        "\n",
        "\n"
      ],
      "metadata": {
        "id": "dAQQdPfVkI9m"
      }
    },
    {
      "cell_type": "markdown",
      "source": [
        "$$J = 8\\hat{x}-4\\hat{y} \\\\ \\\\or \\\\ \\\\ J = \\begin{bmatrix} 8 \\\\ -4\\end{bmatrix} $$"
      ],
      "metadata": {
        "id": "EP-S9VFNkTSH"
      }
    },
    {
      "cell_type": "markdown",
      "source": [
        "Try doing NumPy in several different way"
      ],
      "metadata": {
        "id": "VwggkvcyktS4"
      }
    },
    {
      "cell_type": "code",
      "source": [
        "J = np.add(L, M) ## this is the functional method usisng the numpy library\n",
        "K = np.add(N, O)"
      ],
      "metadata": {
        "id": "YWatCM8Yk6EA"
      },
      "execution_count": 10,
      "outputs": []
    },
    {
      "cell_type": "code",
      "source": [
        "J = L + M   ## this is the explicit method, since Python does a value-reference so it can \n",
        "            ## know that these variables would need to do array operations.\n",
        "J"
      ],
      "metadata": {
        "colab": {
          "base_uri": "https://localhost:8080/"
        },
        "id": "1SwUd4m0k_du",
        "outputId": "b69e6b29-7519-4bc8-efdf-d7ee064e3def"
      },
      "execution_count": 11,
      "outputs": [
        {
          "output_type": "execute_result",
          "data": {
            "text/plain": [
              "array([14, -4])"
            ]
          },
          "metadata": {},
          "execution_count": 11
        }
      ]
    },
    {
      "cell_type": "code",
      "source": [
        "K = N + O\n",
        "K"
      ],
      "metadata": {
        "colab": {
          "base_uri": "https://localhost:8080/"
        },
        "id": "wRyhf4walCTI",
        "outputId": "f08dbcaa-04b6-43b1-bf92-30c94344eb17"
      },
      "execution_count": 12,
      "outputs": [
        {
          "output_type": "execute_result",
          "data": {
            "text/plain": [
              "array([[9],\n",
              "       [2],\n",
              "       [0]])"
            ]
          },
          "metadata": {},
          "execution_count": 12
        }
      ]
    },
    {
      "cell_type": "code",
      "source": [
        "pos1 = np.array([1,1,1])\n",
        "pos2 = np.array([2,4,6])\n",
        "pos3 = np.array([3,6,9])\n",
        "pos4 = np.array([2,-2,2])\n",
        "#J = pos1 + pos2 + pos3 + pos4\n",
        "#J = np.multiply(pos1, pos4)\n",
        "R = pos3 / pos4\n",
        "R"
      ],
      "metadata": {
        "colab": {
          "base_uri": "https://localhost:8080/"
        },
        "id": "klCHgnDXlFXi",
        "outputId": "99b5e7d1-51c8-41c7-dfa5-717ce66d1409"
      },
      "execution_count": 13,
      "outputs": [
        {
          "output_type": "execute_result",
          "data": {
            "text/plain": [
              "array([ 1.5, -3. ,  4.5])"
            ]
          },
          "metadata": {},
          "execution_count": 13
        }
      ]
    },
    {
      "cell_type": "code",
      "source": [
        "pos1 = np.array([1,1,1])\n",
        "pos2 = np.array([2,4,6])\n",
        "pos3 = np.array([3,6,9])\n",
        "pos4 = np.array([2,-2,2])\n",
        "R = pos1 + pos2 + pos3 + pos4\n",
        "#R = np.multiply(pos3, pos4)\n",
        "#R = pos2/ pos4\n",
        "R"
      ],
      "metadata": {
        "colab": {
          "base_uri": "https://localhost:8080/"
        },
        "id": "wfUtJoCplLNm",
        "outputId": "1925d087-f9e8-4e43-ec62-bd615e4184b2"
      },
      "execution_count": 14,
      "outputs": [
        {
          "output_type": "execute_result",
          "data": {
            "text/plain": [
              "array([ 8,  9, 18])"
            ]
          },
          "metadata": {},
          "execution_count": 14
        }
      ]
    },
    {
      "cell_type": "code",
      "source": [
        "pos1 = np.array([1,1,1])\n",
        "pos2 = np.array([2,4,6])\n",
        "pos3 = np.array([3,6,9])\n",
        "pos4 = np.array([2,-2,2])\n",
        "#R = pos1 + pos2 + pos3 + pos4\n",
        "R = np.multiply(pos3, pos4)\n",
        "#R = pos2 / pos4\n",
        "R"
      ],
      "metadata": {
        "colab": {
          "base_uri": "https://localhost:8080/"
        },
        "id": "ZYL29E70lNpY",
        "outputId": "c779d294-03eb-4582-e85d-66ee0523e62a"
      },
      "execution_count": 15,
      "outputs": [
        {
          "output_type": "execute_result",
          "data": {
            "text/plain": [
              "array([  6, -12,  18])"
            ]
          },
          "metadata": {},
          "execution_count": 15
        }
      ]
    },
    {
      "cell_type": "markdown",
      "source": [
        "### Scaling\n",
        "\n",
        "Scaling or scalar multiplication takes a scalar value and performs multiplication with a vector. Let's take the example below:"
      ],
      "metadata": {
        "id": "HNSjSBDAmcHS"
      }
    },
    {
      "cell_type": "markdown",
      "source": [
        "$$S = 7 \\cdot L$$"
      ],
      "metadata": {
        "id": "QUZm3zXDmpKA"
      }
    },
    {
      "cell_type": "code",
      "source": [
        "#S = 7 * L\n",
        "S = np.multiply(5,L)\n",
        "S"
      ],
      "metadata": {
        "colab": {
          "base_uri": "https://localhost:8080/"
        },
        "id": "b8XPVO6qmnnQ",
        "outputId": "91195413-9913-471c-ad50-98151c0f323c"
      },
      "execution_count": 16,
      "outputs": [
        {
          "output_type": "execute_result",
          "data": {
            "text/plain": [
              "array([30, 10])"
            ]
          },
          "metadata": {},
          "execution_count": 16
        }
      ]
    },
    {
      "cell_type": "code",
      "source": [
        "###Scaling with two vectors\n",
        "#S = 7 * L\n",
        "#S = 7 * M\n",
        "L = np.array ([5,4])\n",
        "M = np.array ([9,6])\n",
        "S = np.multiply (7,L)\n",
        "S"
      ],
      "metadata": {
        "colab": {
          "base_uri": "https://localhost:8080/"
        },
        "id": "wW4LNDk9m6zq",
        "outputId": "595ba306-797b-44e2-d87f-94c05f753d77"
      },
      "execution_count": 17,
      "outputs": [
        {
          "output_type": "execute_result",
          "data": {
            "text/plain": [
              "array([35, 28])"
            ]
          },
          "metadata": {},
          "execution_count": 17
        }
      ]
    },
    {
      "cell_type": "code",
      "source": [
        "###Scaling with two vectors\n",
        "#S = 7 * L\n",
        "#S = 7 * M\n",
        "L = np.array ([5,4])\n",
        "M = np.array ([9,6])\n",
        "S = np.multiply (7,M)\n",
        "S"
      ],
      "metadata": {
        "colab": {
          "base_uri": "https://localhost:8080/"
        },
        "id": "gXUWGRHSm9iS",
        "outputId": "ce9a5328-acff-45e5-cbbe-098b588acb40"
      },
      "execution_count": 18,
      "outputs": [
        {
          "output_type": "execute_result",
          "data": {
            "text/plain": [
              "array([63, 42])"
            ]
          },
          "metadata": {},
          "execution_count": 18
        }
      ]
    },
    {
      "cell_type": "markdown",
      "source": [
        "### MatPlotLib\n",
        "\n",
        "MatPlotLib or MATLab Plotting library is Python's take on MATLabs plotting feature. MatPlotLib can be used vastly from graping values to visualizing several dimensions of data."
      ],
      "metadata": {
        "id": "pP8x9CUpnaq8"
      }
    },
    {
      "cell_type": "markdown",
      "source": [
        "#### Visualizing Data\n",
        "\n",
        "It's not enough just solving these vectors so might need to visualize them. So we'll use MatPlotLib for that. We'll need to import it first."
      ],
      "metadata": {
        "id": "B7CDK0oGonX7"
      }
    },
    {
      "cell_type": "code",
      "source": [
        "import matplotlib.pyplot as plt\n",
        "import matplotlib\n",
        "%matplotlib inline"
      ],
      "metadata": {
        "id": "WjebckLEouo6"
      },
      "execution_count": 3,
      "outputs": []
    },
    {
      "cell_type": "code",
      "source": [
        "A = [-6, -3]\n",
        "B = [2, 7]\n",
        "#ax = plt.axes(projection='3d')\n",
        "plt.scatter(A[0], A[1], label='A', c='Green')\n",
        "plt.scatter(B[0], B[1], label='B', c='Black')\n",
        "plt.grid()\n",
        "plt.legend()\n",
        "plt.show()"
      ],
      "metadata": {
        "colab": {
          "base_uri": "https://localhost:8080/",
          "height": 265
        },
        "id": "11xGpwEpoypj",
        "outputId": "636a99e8-f1d1-413f-bde8-0be06f925189"
      },
      "execution_count": 27,
      "outputs": [
        {
          "output_type": "display_data",
          "data": {
            "text/plain": [
              "<Figure size 432x288 with 1 Axes>"
            ],
            "image/png": "[encoded data removed]"
          },
          "metadata": {
            "needs_background": "light"
          }
        }
      ]
    },
    {
      "cell_type": "code",
      "source": [
        "A = np.array([1, 0])\n",
        "B = np.array([4, 2])\n",
        "R = A + B\n",
        "Magnitude = np.sqrt(np.sum(R**2))\n",
        "plt.title(\"Resultant Vector\\nMagnitude:{}\" .format(Magnitude))\n",
        "plt.xlim(-6, 4)\n",
        "plt.ylim(-6, 4)\n",
        "plt.quiver(0, 0, A[0], A[1], angles='xy', scale_units='xy', scale=1, color='Blue')\n",
        "plt.quiver(A[0], A[1], B[0], B[1], angles='xy', scale_units='xy', scale=1, color='Red')\n",
        "J = A + B\n",
        "plt.quiver(0, 0, R[0], R[1], angles='xy', scale_units='xy', scale=1, color='Magenta')\n",
        "plt.grid()\n",
        "plt.show()\n",
        "print(J)\n",
        "print(Magnitude)\n",
        "Slope = R[1]/R[0]\n",
        "print(Slope)\n",
        "Angle = (np.arctan(Slope))*(180/np.pi)\n",
        "print(Angle)\n"
      ],
      "metadata": {
        "colab": {
          "base_uri": "https://localhost:8080/",
          "height": 365
        },
        "id": "jHs1nJ3Vo3Uz",
        "outputId": "905cc352-9d29-4c3f-d52a-b7fa76a41744"
      },
      "execution_count": 23,
      "outputs": [
        {
          "output_type": "display_data",
          "data": {
            "text/plain": [
              "<Figure size 432x288 with 1 Axes>"
            ],
            "image/png": "[encoded data removed]"
          },
          "metadata": {
            "needs_background": "light"
          }
        },
        {
          "output_type": "stream",
          "name": "stdout",
          "text": [
            "[5 2]\n",
            "5.385164807134504\n",
            "0.4\n",
            "21.80140948635181\n"
          ]
        }
      ]
    },
    {
      "cell_type": "code",
      "source": [
        "n = A.shape[0]\n",
        "plt.xlim(-10, 10)\n",
        "plt.ylim(-10, 10)\n",
        "plt.quiver(0,0, A[0], A[1], angles='xy', scale_units='xy',scale=1)\n",
        "plt.quiver(A[0],A[1], B[0], B[1], angles='xy', scale_units='xy',scale=1)\n",
        "plt.quiver(0,0, R[0], R[1], angles='xy', scale_units='xy',scale=1)\n",
        "plt.show()"
      ],
      "metadata": {
        "colab": {
          "base_uri": "https://localhost:8080/",
          "height": 269
        },
        "id": "4IVWoxXjo5kZ",
        "outputId": "e6cfaeed-4ec8-4c35-aa5f-8d8e8615c234"
      },
      "execution_count": 24,
      "outputs": [
        {
          "output_type": "display_data",
          "data": {
            "text/plain": [
              "<Figure size 432x288 with 1 Axes>"
            ],
            "image/png": "[encoded data removed]"
          },
          "metadata": {
            "needs_background": "light"
          }
        }
      ]
    },
    {
      "cell_type": "code",
      "source": [
        "####Three vectors\n",
        "Alex = np.array([6, 7])\n",
        "Ij = np.array([4, 8])\n",
        "Kistel = Alex + Ij\n",
        "Mer = np.array([-4, 23])\n",
        "Jamie = Mer + Alex + Ij\n",
        "magnitude = np.sqrt(np.sum(Mer**2))\n",
        "plt.title(\"Resultant Vector\\nMagnitude: {} \\n Resultant: {}\".format(magnitude, Mer))\n",
        "plt.xlim(-10, 40)\n",
        "plt.ylim(-10, 40)\n",
        "plt.quiver(0, 0, Alex[0], Alex[1], angles='xy', scale_units='xy', scale=1, color='Pink')\n",
        "plt.quiver(Alex[0], Alex[1], Ij[0], Ij[1], angles='xy', scale_units='xy', scale=1, color='Green')\n",
        "plt.quiver(Kistel[0], Kistel[1], Jamie[0], Jamie[1], angles='xy', scale_units='xy', scale=1, color='Blue')\n",
        "plt.quiver(0, 0, Mer[0], Mer[1], angles='xy', scale_units='xy', scale=1, color='red')\n",
        "plt.grid()\n",
        "plt.show()\n",
        "Slope = R[1]/R[0]\n",
        "print(Slope)\n",
        "Angle = (np.arctan(Slope))*(180/np.pi)\n",
        "print(Angle)"
      ],
      "metadata": {
        "colab": {
          "base_uri": "https://localhost:8080/",
          "height": 346
        },
        "id": "95RzALboo5g2",
        "outputId": "4f749614-0e5c-4ea2-8e63-b085dbc87b1c"
      },
      "execution_count": 25,
      "outputs": [
        {
          "output_type": "display_data",
          "data": {
            "text/plain": [
              "<Figure size 432x288 with 1 Axes>"
            ],
            "image/png": "[encoded data removed]"
          },
          "metadata": {
            "needs_background": "light"
          }
        },
        {
          "output_type": "stream",
          "name": "stdout",
          "text": [
            "0.4\n",
            "21.80140948635181\n"
          ]
        }
      ]
    }
  ]
}